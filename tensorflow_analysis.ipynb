{
 "cells": [
  {
   "cell_type": "code",
   "execution_count": 1,
   "id": "d80511a2-46cc-4a9f-8cbf-fdc301778925",
   "metadata": {
    "execution": {
     "iopub.execute_input": "2024-03-31T14:19:15.996942Z",
     "iopub.status.busy": "2024-03-31T14:19:15.995942Z",
     "iopub.status.idle": "2024-03-31T14:19:26.475098Z",
     "shell.execute_reply": "2024-03-31T14:19:26.474104Z",
     "shell.execute_reply.started": "2024-03-31T14:19:15.996942Z"
    }
   },
   "outputs": [],
   "source": [
    "import pandas as pd\n",
    "import numpy as np\n",
    "import datetime as dt\n",
    "import IPython.display\n",
    "import matplotlib as mpl\n",
    "import matplotlib.pyplot as plt\n",
    "import seaborn as sns\n",
    "import IPython\n",
    "import tensorflow as tf\n",
    "import keras\n",
    "from keras.models import Sequential\n",
    "from keras.layers import LSTM, Dense\n",
    "from statsmodels.tsa.stattools import adfuller\n",
    "from statsmodels.graphics.tsaplots import plot_acf\n",
    "from statsmodels.graphics.tsaplots import plot_pacf\n",
    "from statsmodels.tsa.arima.model import ARIMA\n",
    "import statsmodels.tsa.stattools as smt\n",
    "# from statsmodels.tsa.statsmodels import \n"
   ]
  },
  {
   "cell_type": "code",
   "execution_count": 2,
   "id": "bdb64cca-a299-45ed-a4f6-54913bb4e563",
   "metadata": {
    "execution": {
     "iopub.execute_input": "2024-03-31T14:19:26.477110Z",
     "iopub.status.busy": "2024-03-31T14:19:26.476100Z",
     "iopub.status.idle": "2024-03-31T14:19:30.105108Z",
     "shell.execute_reply": "2024-03-31T14:19:30.105108Z",
     "shell.execute_reply.started": "2024-03-31T14:19:26.477110Z"
    }
   },
   "outputs": [],
   "source": [
    "data = pd.read_csv('dataframe_full.csv')"
   ]
  },
  {
   "cell_type": "code",
   "execution_count": 3,
   "id": "403f1c0d-e436-4e4d-905e-49fdcd421569",
   "metadata": {
    "execution": {
     "iopub.execute_input": "2024-03-31T14:19:30.107114Z",
     "iopub.status.busy": "2024-03-31T14:19:30.107114Z",
     "iopub.status.idle": "2024-03-31T14:19:30.279858Z",
     "shell.execute_reply": "2024-03-31T14:19:30.278856Z",
     "shell.execute_reply.started": "2024-03-31T14:19:30.107114Z"
    }
   },
   "outputs": [
    {
     "data": {
      "text/plain": [
       "(1260, 14373)"
      ]
     },
     "execution_count": 3,
     "metadata": {},
     "output_type": "execute_result"
    }
   ],
   "source": [
    "data = data.set_index('Date')\n",
    "data.shape"
   ]
  },
  {
   "cell_type": "code",
   "execution_count": 4,
   "id": "83015488-31c1-41d3-a1d4-5b23ef939055",
   "metadata": {
    "execution": {
     "iopub.execute_input": "2024-03-31T14:19:30.280857Z",
     "iopub.status.busy": "2024-03-31T14:19:30.280857Z",
     "iopub.status.idle": "2024-03-31T14:19:30.295861Z",
     "shell.execute_reply": "2024-03-31T14:19:30.294864Z",
     "shell.execute_reply.started": "2024-03-31T14:19:30.280857Z"
    }
   },
   "outputs": [
    {
     "data": {
      "text/plain": [
       "Index(['AAPL_Open', 'AAPL_High', 'AAPL_Low', 'AAPL_Close', 'AAPL_Volume',\n",
       "       'AAPL_Dividends', 'AAPL_Stock_Splits', 'A_Open', 'A_High', 'A_Low',\n",
       "       ...\n",
       "       'ZUO_Volume', 'ZUO_Dividends', 'ZUO_Stock Splits', 'ZWS_Open',\n",
       "       'ZWS_High', 'ZWS_Low', 'ZWS_Close', 'ZWS_Volume', 'ZWS_Dividends',\n",
       "       'ZWS_Stock Splits'],\n",
       "      dtype='object', length=14373)"
      ]
     },
     "execution_count": 4,
     "metadata": {},
     "output_type": "execute_result"
    }
   ],
   "source": [
    "data.columns"
   ]
  },
  {
   "cell_type": "code",
   "execution_count": 5,
   "id": "9feb7828-50fc-42f9-bce4-bcaf60aa3dd5",
   "metadata": {
    "execution": {
     "iopub.execute_input": "2024-03-31T14:19:30.297860Z",
     "iopub.status.busy": "2024-03-31T14:19:30.296861Z",
     "iopub.status.idle": "2024-03-31T14:19:30.520247Z",
     "shell.execute_reply": "2024-03-31T14:19:30.518193Z",
     "shell.execute_reply.started": "2024-03-31T14:19:30.297860Z"
    }
   },
   "outputs": [],
   "source": [
    "### Get unique list of stock symbols still in dataframe\n",
    "\n",
    "stock_symbol_list = []\n",
    "for a in data.columns:\n",
    "    symbol = a.split('_')[0]\n",
    "    if symbol not in stock_symbol_list:\n",
    "        stock_symbol_list.append(symbol)\n",
    "        "
   ]
  },
  {
   "cell_type": "code",
   "execution_count": 6,
   "id": "3d4beb47-02a4-4f75-9a6e-b37ed4203d9b",
   "metadata": {
    "execution": {
     "iopub.execute_input": "2024-03-31T14:19:30.522227Z",
     "iopub.status.busy": "2024-03-31T14:19:30.521229Z",
     "iopub.status.idle": "2024-03-31T14:19:30.534227Z",
     "shell.execute_reply": "2024-03-31T14:19:30.533226Z",
     "shell.execute_reply.started": "2024-03-31T14:19:30.522227Z"
    }
   },
   "outputs": [
    {
     "data": {
      "text/plain": [
       "2053"
      ]
     },
     "execution_count": 6,
     "metadata": {},
     "output_type": "execute_result"
    }
   ],
   "source": [
    "len(stock_symbol_list)"
   ]
  },
  {
   "cell_type": "code",
   "execution_count": 7,
   "id": "1cf06a16-fe53-4ed9-a663-8bc3987c138f",
   "metadata": {
    "execution": {
     "iopub.execute_input": "2024-03-31T14:19:30.536228Z",
     "iopub.status.busy": "2024-03-31T14:19:30.535238Z",
     "iopub.status.idle": "2024-03-31T14:19:30.822481Z",
     "shell.execute_reply": "2024-03-31T14:19:30.819512Z",
     "shell.execute_reply.started": "2024-03-31T14:19:30.536228Z"
    }
   },
   "outputs": [],
   "source": [
    "### Get open price for all stocks\n",
    "\n",
    "stock_open_price_col_list = []\n",
    "for a in data.columns:\n",
    "    symbol = a.split('_')[0]\n",
    "    col_name = symbol + '_Open'\n",
    "    if col_name not in stock_open_price_col_list:\n",
    "        stock_open_price_col_list.append(col_name)\n",
    "\n",
    "data_open = data[stock_open_price_col_list]\n"
   ]
  },
  {
   "cell_type": "code",
   "execution_count": 8,
   "id": "48d487f2-b20f-42e1-b8de-894a5ed4f11a",
   "metadata": {
    "execution": {
     "iopub.execute_input": "2024-03-31T14:19:30.825452Z",
     "iopub.status.busy": "2024-03-31T14:19:30.824443Z",
     "iopub.status.idle": "2024-03-31T14:19:31.105032Z",
     "shell.execute_reply": "2024-03-31T14:19:31.104494Z",
     "shell.execute_reply.started": "2024-03-31T14:19:30.825452Z"
    }
   },
   "outputs": [],
   "source": [
    "### Get volume for all stocks\n",
    "\n",
    "stock_volume_col_list = []\n",
    "for a in data.columns:\n",
    "    symbol = a.split('_')[0]\n",
    "    col_name = symbol + '_Volume'\n",
    "    if col_name not in stock_volume_col_list:\n",
    "        stock_volume_col_list.append(col_name)\n",
    "\n",
    "data_volume = data[stock_volume_col_list]\n"
   ]
  },
  {
   "cell_type": "code",
   "execution_count": 9,
   "id": "bd80a069-7b9d-4643-863d-f58880d2ce69",
   "metadata": {
    "execution": {
     "iopub.execute_input": "2024-03-31T14:19:31.106073Z",
     "iopub.status.busy": "2024-03-31T14:19:31.105032Z",
     "iopub.status.idle": "2024-03-31T14:19:31.373060Z",
     "shell.execute_reply": "2024-03-31T14:19:31.372037Z",
     "shell.execute_reply.started": "2024-03-31T14:19:31.106073Z"
    }
   },
   "outputs": [],
   "source": [
    "### Get HIGH for all stocks\n",
    "\n",
    "stock_high_col_list = []\n",
    "for a in data.columns:\n",
    "    symbol = a.split('_')[0]\n",
    "    col_name = symbol + '_High'\n",
    "    if col_name not in stock_high_col_list:\n",
    "        stock_high_col_list.append(col_name)\n",
    "\n",
    "data_high = data[stock_high_col_list]\n"
   ]
  },
  {
   "cell_type": "code",
   "execution_count": 10,
   "id": "d4a0c5f3-26cb-4d98-9332-b06ee665e173",
   "metadata": {
    "execution": {
     "iopub.execute_input": "2024-03-31T14:19:31.375039Z",
     "iopub.status.busy": "2024-03-31T14:19:31.374038Z",
     "iopub.status.idle": "2024-03-31T14:19:31.654660Z",
     "shell.execute_reply": "2024-03-31T14:19:31.653646Z",
     "shell.execute_reply.started": "2024-03-31T14:19:31.375039Z"
    }
   },
   "outputs": [],
   "source": [
    "### Get low for all stocks\n",
    "\n",
    "stock_low_col_list = []\n",
    "for a in data.columns:\n",
    "    symbol = a.split('_')[0]\n",
    "    col_name = symbol + '_Low'\n",
    "    if col_name not in stock_low_col_list:\n",
    "        stock_low_col_list.append(col_name)\n",
    "\n",
    "data_low = data[stock_low_col_list]\n"
   ]
  },
  {
   "cell_type": "code",
   "execution_count": 11,
   "id": "14aeb9ac-881d-4ca5-b792-71d86d740804",
   "metadata": {
    "execution": {
     "iopub.execute_input": "2024-03-31T14:19:31.656659Z",
     "iopub.status.busy": "2024-03-31T14:19:31.655661Z",
     "iopub.status.idle": "2024-03-31T14:19:32.032656Z",
     "shell.execute_reply": "2024-03-31T14:19:32.031647Z",
     "shell.execute_reply.started": "2024-03-31T14:19:31.656659Z"
    }
   },
   "outputs": [],
   "source": [
    "### Get close for all stocks\n",
    "\n",
    "stock_close_col_list = []\n",
    "for a in data.columns:\n",
    "    symbol = a.split('_')[0]\n",
    "    col_name = symbol + '_Close'\n",
    "    if col_name not in stock_close_col_list:\n",
    "        stock_close_col_list.append(col_name)\n",
    "\n",
    "data_close = data[stock_close_col_list]\n"
   ]
  },
  {
   "cell_type": "code",
   "execution_count": 12,
   "id": "d89c505a-427b-4ec6-9774-c5de05a54f90",
   "metadata": {
    "execution": {
     "iopub.execute_input": "2024-03-31T14:19:32.033671Z",
     "iopub.status.busy": "2024-03-31T14:19:32.033671Z",
     "iopub.status.idle": "2024-03-31T14:19:32.062685Z",
     "shell.execute_reply": "2024-03-31T14:19:32.061686Z",
     "shell.execute_reply.started": "2024-03-31T14:19:32.033671Z"
    }
   },
   "outputs": [],
   "source": [
    "aux_data = pd.read_csv('./Aux_Data/AAPL.csv')\n"
   ]
  },
  {
   "cell_type": "markdown",
   "id": "5cbc7ab8-428b-4edb-bb67-c27f04390ec5",
   "metadata": {},
   "source": [
    "# Visualization of data"
   ]
  },
  {
   "cell_type": "code",
   "execution_count": 13,
   "id": "671c7e9e-6444-43fa-bdc8-d572ef3a0508",
   "metadata": {
    "execution": {
     "iopub.execute_input": "2024-03-31T14:19:32.063700Z",
     "iopub.status.busy": "2024-03-31T14:19:32.063700Z",
     "iopub.status.idle": "2024-03-31T14:19:32.078687Z",
     "shell.execute_reply": "2024-03-31T14:19:32.077686Z",
     "shell.execute_reply.started": "2024-03-31T14:19:32.063700Z"
    }
   },
   "outputs": [],
   "source": [
    "apple_open = data_open['AAPL_Open']"
   ]
  },
  {
   "cell_type": "code",
   "execution_count": 14,
   "id": "132f9308-030d-40e8-8d94-5ca16a310d48",
   "metadata": {
    "execution": {
     "iopub.execute_input": "2024-03-31T14:19:32.082688Z",
     "iopub.status.busy": "2024-03-31T14:19:32.082688Z",
     "iopub.status.idle": "2024-03-31T14:19:32.443049Z",
     "shell.execute_reply": "2024-03-31T14:19:32.442049Z",
     "shell.execute_reply.started": "2024-03-31T14:19:32.082688Z"
    }
   },
   "outputs": [
    {
     "data": {
      "image/png": "[encoded data removed]",
      "text/plain": [
       "<Figure size 640x480 with 1 Axes>"
      ]
     },
     "execution_count": 14,
     "metadata": {},
     "output_type": "execute_result"
    },
    {
     "data": {
      "image/png": "[encoded data removed]",
      "text/plain": [
       "<Figure size 640x480 with 1 Axes>"
      ]
     },
     "metadata": {},
     "output_type": "display_data"
    }
   ],
   "source": [
    "plot_acf(apple_open, lags=100)"
   ]
  },
  {
   "cell_type": "code",
   "execution_count": 15,
   "id": "c98d245f-cf12-4a86-9215-6fc04f6a3008",
   "metadata": {
    "execution": {
     "iopub.execute_input": "2024-03-31T14:19:32.445050Z",
     "iopub.status.busy": "2024-03-31T14:19:32.444062Z",
     "iopub.status.idle": "2024-03-31T14:19:32.600032Z",
     "shell.execute_reply": "2024-03-31T14:19:32.599033Z",
     "shell.execute_reply.started": "2024-03-31T14:19:32.445050Z"
    }
   },
   "outputs": [
    {
     "name": "stdout",
     "output_type": "stream",
     "text": [
      "0.10247922620179216 0.16787962553436842\n"
     ]
    },
    {
     "data": {
      "image/png": "[encoded data removed]",
      "text/plain": [
       "<Figure size 640x480 with 1 Axes>"
      ]
     },
     "metadata": {},
     "output_type": "display_data"
    }
   ],
   "source": [
    "apple_diff = pd.DataFrame(data_open['AAPL_Open']).diff().dropna()\n",
    "sns.violinplot(apple_diff)\n",
    "print(np.mean(apple_diff), np.median(apple_diff))\n",
    "plt.title('Apple diff')\n",
    "plt.show()"
   ]
  },
  {
   "cell_type": "code",
   "execution_count": null,
   "id": "f05cf352-3230-42bd-88ee-50f3679fd066",
   "metadata": {},
   "outputs": [],
   "source": []
  },
  {
   "cell_type": "markdown",
   "id": "ae516b58-c540-463f-afe6-8a565a34f4b8",
   "metadata": {},
   "source": [
    "# Multivariate analysis\n",
    "first getting cross correlation of data to aapl"
   ]
  },
  {
   "cell_type": "code",
   "execution_count": 16,
   "id": "532c1501-9074-478b-965c-40af29c2ced1",
   "metadata": {
    "execution": {
     "iopub.execute_input": "2024-03-31T14:19:32.601033Z",
     "iopub.status.busy": "2024-03-31T14:19:32.601033Z",
     "iopub.status.idle": "2024-03-31T14:19:32.615463Z",
     "shell.execute_reply": "2024-03-31T14:19:32.614449Z",
     "shell.execute_reply.started": "2024-03-31T14:19:32.601033Z"
    }
   },
   "outputs": [],
   "source": [
    "forwards = smt.ccf(data_open['AAPL_Open'],data_open['NVDA_Open'], adjusted=False)\n",
    "backwards = smt.ccf(data_open['AAPL_Open'],data_open['NVDA_Open'], adjusted=False)[::-1]"
   ]
  },
  {
   "cell_type": "code",
   "execution_count": 17,
   "id": "12585b3b-2210-4c84-b884-eacd9240321d",
   "metadata": {
    "execution": {
     "iopub.execute_input": "2024-03-31T14:19:32.617451Z",
     "iopub.status.busy": "2024-03-31T14:19:32.616452Z",
     "iopub.status.idle": "2024-03-31T14:19:32.631453Z",
     "shell.execute_reply": "2024-03-31T14:19:32.630456Z",
     "shell.execute_reply.started": "2024-03-31T14:19:32.617451Z"
    }
   },
   "outputs": [],
   "source": [
    "ccf_output = np.r_[backwards[:-1], forwards]"
   ]
  },
  {
   "cell_type": "code",
   "execution_count": 18,
   "id": "d156d735-e59c-4fb3-8768-fe2f54e2ab4f",
   "metadata": {
    "execution": {
     "iopub.execute_input": "2024-03-31T14:19:32.633448Z",
     "iopub.status.busy": "2024-03-31T14:19:32.632450Z",
     "iopub.status.idle": "2024-03-31T14:19:32.869449Z",
     "shell.execute_reply": "2024-03-31T14:19:32.868485Z",
     "shell.execute_reply.started": "2024-03-31T14:19:32.633448Z"
    }
   },
   "outputs": [
    {
     "data": {
      "text/plain": [
       "<matplotlib.lines.Line2D at 0x15a4e2ba680>"
      ]
     },
     "execution_count": 18,
     "metadata": {},
     "output_type": "execute_result"
    },
    {
     "data": {
      "image/png": "[encoded data removed]",
      "text/plain": [
       "<Figure size 640x480 with 1 Axes>"
      ]
     },
     "metadata": {},
     "output_type": "display_data"
    }
   ],
   "source": [
    "plt.stem(range(-len(ccf_output)//2, len(ccf_output)//2), ccf_output)\n",
    "plt.xlabel('Lag')\n",
    "plt.ylabel('ACF')\n",
    "plt.axhline(-1.96/np.sqrt(len(data)), color='k', ls='--') \n",
    "plt.axhline(1.96/np.sqrt(len(data)), color='k', ls='--')"
   ]
  },
  {
   "cell_type": "code",
   "execution_count": 19,
   "id": "61d61181-ef69-4785-a10b-4ef20e2c20aa",
   "metadata": {
    "execution": {
     "iopub.execute_input": "2024-03-31T14:19:32.870448Z",
     "iopub.status.busy": "2024-03-31T14:19:32.869449Z",
     "iopub.status.idle": "2024-03-31T14:19:32.885450Z",
     "shell.execute_reply": "2024-03-31T14:19:32.884481Z",
     "shell.execute_reply.started": "2024-03-31T14:19:32.870448Z"
    }
   },
   "outputs": [],
   "source": [
    "def ccf_finder(series1_symbol, series2_symbol, ccf_df):\n",
    "    series1 = data_open[series1_symbol + '_Open']\n",
    "    series2 = data_open[series2_symbol + '_Open']\n",
    "    forwards = smt.ccf(series1, series2, adjusted=False)\n",
    "    backwards = smt.ccf(series1, series2, adjusted=False)[::-1]\n",
    "    output = np.r_[backwards[:-1], forwards]\n",
    "    lag_range = range(-len(output)//2, len(output)//2)\n",
    "    \n",
    "    max_output = output[np.argmax(output)]\n",
    "    max_lag = lag_range[np.argmax(output)]\n",
    "    min_output = output[np.argmin(output)]\n",
    "    min_lag = lag_range[np.argmin(output)]\n",
    "    ccf_df.loc[len(ccf_df)] = (series1_symbol, series2_symbol,max_output, max_lag, min_output, min_lag)\n",
    "    return ccf_df"
   ]
  },
  {
   "cell_type": "code",
   "execution_count": 20,
   "id": "55a2db86-8e50-4920-abfb-2f03b8871f6a",
   "metadata": {
    "execution": {
     "iopub.execute_input": "2024-03-31T14:19:32.886483Z",
     "iopub.status.busy": "2024-03-31T14:19:32.886483Z",
     "iopub.status.idle": "2024-03-31T14:19:35.901502Z",
     "shell.execute_reply": "2024-03-31T14:19:35.900653Z",
     "shell.execute_reply.started": "2024-03-31T14:19:32.886483Z"
    }
   },
   "outputs": [],
   "source": [
    "ccf_apple_df = pd.DataFrame(columns=['stock1','stock2','max_ccf','max_ccf_lag','min_ccf','min_ccf_lag'])\n",
    "\n",
    "for stock in stock_symbol_list:\n",
    "    if stock != 'AAPL':\n",
    "        ccf_apple_df = ccf_finder('AAPL', stock, ccf_apple_df)"
   ]
  },
  {
   "cell_type": "code",
   "execution_count": 21,
   "id": "9f91def8-3321-4704-bd16-31f38c58d98f",
   "metadata": {
    "execution": {
     "iopub.execute_input": "2024-03-31T14:19:35.903448Z",
     "iopub.status.busy": "2024-03-31T14:19:35.902489Z",
     "iopub.status.idle": "2024-03-31T14:19:35.932451Z",
     "shell.execute_reply": "2024-03-31T14:19:35.931448Z",
     "shell.execute_reply.started": "2024-03-31T14:19:35.903448Z"
    }
   },
   "outputs": [
    {
     "data": {
      "text/html": [
       "<div>\n",
       "<style scoped>\n",
       "    .dataframe tbody tr th:only-of-type {\n",
       "        vertical-align: middle;\n",
       "    }\n",
       "\n",
       "    .dataframe tbody tr th {\n",
       "        vertical-align: top;\n",
       "    }\n",
       "\n",
       "    .dataframe thead th {\n",
       "        text-align: right;\n",
       "    }\n",
       "</style>\n",
       "<table border=\"1\" class=\"dataframe\">\n",
       "  <thead>\n",
       "    <tr style=\"text-align: right;\">\n",
       "      <th></th>\n",
       "      <th>stock1</th>\n",
       "      <th>stock2</th>\n",
       "      <th>max_ccf</th>\n",
       "      <th>max_ccf_lag</th>\n",
       "      <th>min_ccf</th>\n",
       "      <th>min_ccf_lag</th>\n",
       "    </tr>\n",
       "  </thead>\n",
       "  <tbody>\n",
       "    <tr>\n",
       "      <th>692</th>\n",
       "      <td>AAPL</td>\n",
       "      <td>FAST</td>\n",
       "      <td>0.958722</td>\n",
       "      <td>-1</td>\n",
       "      <td>-0.353687</td>\n",
       "      <td>-980</td>\n",
       "    </tr>\n",
       "    <tr>\n",
       "      <th>1243</th>\n",
       "      <td>AAPL</td>\n",
       "      <td>MSFT</td>\n",
       "      <td>0.957450</td>\n",
       "      <td>-1</td>\n",
       "      <td>-0.326265</td>\n",
       "      <td>-986</td>\n",
       "    </tr>\n",
       "    <tr>\n",
       "      <th>1396</th>\n",
       "      <td>AAPL</td>\n",
       "      <td>ODFL</td>\n",
       "      <td>0.950275</td>\n",
       "      <td>-1</td>\n",
       "      <td>-0.325775</td>\n",
       "      <td>-982</td>\n",
       "    </tr>\n",
       "    <tr>\n",
       "      <th>1225</th>\n",
       "      <td>AAPL</td>\n",
       "      <td>MPWR</td>\n",
       "      <td>0.947544</td>\n",
       "      <td>-1</td>\n",
       "      <td>-0.336482</td>\n",
       "      <td>-979</td>\n",
       "    </tr>\n",
       "    <tr>\n",
       "      <th>499</th>\n",
       "      <td>AAPL</td>\n",
       "      <td>CWST</td>\n",
       "      <td>0.945919</td>\n",
       "      <td>-1</td>\n",
       "      <td>-0.326350</td>\n",
       "      <td>-980</td>\n",
       "    </tr>\n",
       "    <tr>\n",
       "      <th>...</th>\n",
       "      <td>...</td>\n",
       "      <td>...</td>\n",
       "      <td>...</td>\n",
       "      <td>...</td>\n",
       "      <td>...</td>\n",
       "      <td>...</td>\n",
       "    </tr>\n",
       "    <tr>\n",
       "      <th>21</th>\n",
       "      <td>AAPL</td>\n",
       "      <td>AC</td>\n",
       "      <td>0.125866</td>\n",
       "      <td>-373</td>\n",
       "      <td>-0.148634</td>\n",
       "      <td>-605</td>\n",
       "    </tr>\n",
       "    <tr>\n",
       "      <th>1641</th>\n",
       "      <td>AAPL</td>\n",
       "      <td>RYTM</td>\n",
       "      <td>0.125223</td>\n",
       "      <td>-723</td>\n",
       "      <td>-0.304895</td>\n",
       "      <td>-400</td>\n",
       "    </tr>\n",
       "    <tr>\n",
       "      <th>1293</th>\n",
       "      <td>AAPL</td>\n",
       "      <td>NBR</td>\n",
       "      <td>0.118941</td>\n",
       "      <td>-1169</td>\n",
       "      <td>-0.292174</td>\n",
       "      <td>-797</td>\n",
       "    </tr>\n",
       "    <tr>\n",
       "      <th>972</th>\n",
       "      <td>AAPL</td>\n",
       "      <td>IOR</td>\n",
       "      <td>0.118379</td>\n",
       "      <td>-1</td>\n",
       "      <td>-0.106290</td>\n",
       "      <td>-162</td>\n",
       "    </tr>\n",
       "    <tr>\n",
       "      <th>2007</th>\n",
       "      <td>AAPL</td>\n",
       "      <td>WTI</td>\n",
       "      <td>0.111411</td>\n",
       "      <td>-1037</td>\n",
       "      <td>-0.251978</td>\n",
       "      <td>-794</td>\n",
       "    </tr>\n",
       "  </tbody>\n",
       "</table>\n",
       "<p>2052 rows × 6 columns</p>\n",
       "</div>"
      ],
      "text/plain": [
       "     stock1 stock2   max_ccf  max_ccf_lag   min_ccf  min_ccf_lag\n",
       "692    AAPL   FAST  0.958722           -1 -0.353687         -980\n",
       "1243   AAPL   MSFT  0.957450           -1 -0.326265         -986\n",
       "1396   AAPL   ODFL  0.950275           -1 -0.325775         -982\n",
       "1225   AAPL   MPWR  0.947544           -1 -0.336482         -979\n",
       "499    AAPL   CWST  0.945919           -1 -0.326350         -980\n",
       "...     ...    ...       ...          ...       ...          ...\n",
       "21     AAPL     AC  0.125866         -373 -0.148634         -605\n",
       "1641   AAPL   RYTM  0.125223         -723 -0.304895         -400\n",
       "1293   AAPL    NBR  0.118941        -1169 -0.292174         -797\n",
       "972    AAPL    IOR  0.118379           -1 -0.106290         -162\n",
       "2007   AAPL    WTI  0.111411        -1037 -0.251978         -794\n",
       "\n",
       "[2052 rows x 6 columns]"
      ]
     },
     "execution_count": 21,
     "metadata": {},
     "output_type": "execute_result"
    }
   ],
   "source": [
    "ccf_apple_df.sort_values(by='max_ccf', ascending=False)"
   ]
  },
  {
   "cell_type": "code",
   "execution_count": 22,
   "id": "18163629-0d26-4acd-bec7-e7c08943c429",
   "metadata": {
    "execution": {
     "iopub.execute_input": "2024-03-31T14:19:35.933449Z",
     "iopub.status.busy": "2024-03-31T14:19:35.932451Z",
     "iopub.status.idle": "2024-03-31T14:19:35.948453Z",
     "shell.execute_reply": "2024-03-31T14:19:35.947482Z",
     "shell.execute_reply.started": "2024-03-31T14:19:35.933449Z"
    }
   },
   "outputs": [],
   "source": [
    "stock_list_greater_point_five_corr_apple = ccf_apple_df['stock2'][(ccf_apple_df['max_ccf'] >= 0.5) & (ccf_apple_df['max_ccf_lag'] <= 10)]\n"
   ]
  },
  {
   "cell_type": "code",
   "execution_count": 23,
   "id": "b6938486-d4a7-46d0-9f0d-89e704250d20",
   "metadata": {
    "execution": {
     "iopub.execute_input": "2024-03-31T14:19:35.949450Z",
     "iopub.status.busy": "2024-03-31T14:19:35.949450Z",
     "iopub.status.idle": "2024-03-31T14:19:35.963447Z",
     "shell.execute_reply": "2024-03-31T14:19:35.962448Z",
     "shell.execute_reply.started": "2024-03-31T14:19:35.949450Z"
    }
   },
   "outputs": [
    {
     "data": {
      "text/plain": [
       "761"
      ]
     },
     "execution_count": 23,
     "metadata": {},
     "output_type": "execute_result"
    }
   ],
   "source": [
    "len(stock_list_greater_point_five_corr_apple)"
   ]
  },
  {
   "cell_type": "markdown",
   "id": "788ad2b7-56b0-4bf4-b5c9-a88f3e2db76f",
   "metadata": {},
   "source": [
    "The list I created has 761 stocks that have a correlation value greater than 0.5 within 10 lag values of apple stock price."
   ]
  },
  {
   "cell_type": "code",
   "execution_count": 24,
   "id": "1a02869f-3f19-4a73-9fdb-cde9c749eb08",
   "metadata": {
    "execution": {
     "iopub.execute_input": "2024-03-31T14:19:35.964464Z",
     "iopub.status.busy": "2024-03-31T14:19:35.964464Z",
     "iopub.status.idle": "2024-03-31T14:19:35.995450Z",
     "shell.execute_reply": "2024-03-31T14:19:35.994449Z",
     "shell.execute_reply.started": "2024-03-31T14:19:35.964464Z"
    },
    "scrolled": true
   },
   "outputs": [
    {
     "data": {
      "text/plain": [
       "[None,\n",
       " None,\n",
       " None,\n",
       " None,\n",
       " None,\n",
       " None,\n",
       " None,\n",
       " None,\n",
       " None,\n",
       " None,\n",
       " None,\n",
       " None,\n",
       " None,\n",
       " None,\n",
       " None,\n",
       " None,\n",
       " None,\n",
       " None,\n",
       " None,\n",
       " None,\n",
       " None,\n",
       " None,\n",
       " None,\n",
       " None,\n",
       " None,\n",
       " None,\n",
       " None,\n",
       " None,\n",
       " None,\n",
       " None,\n",
       " None,\n",
       " None,\n",
       " None,\n",
       " None,\n",
       " None,\n",
       " None,\n",
       " None,\n",
       " None,\n",
       " None,\n",
       " None,\n",
       " None,\n",
       " None,\n",
       " None,\n",
       " None,\n",
       " None,\n",
       " None,\n",
       " None,\n",
       " None,\n",
       " None,\n",
       " None,\n",
       " None,\n",
       " None,\n",
       " None,\n",
       " None,\n",
       " None,\n",
       " None,\n",
       " None,\n",
       " None,\n",
       " None,\n",
       " None,\n",
       " None,\n",
       " None,\n",
       " None,\n",
       " None,\n",
       " None,\n",
       " None,\n",
       " None,\n",
       " None,\n",
       " None,\n",
       " None,\n",
       " None,\n",
       " None,\n",
       " None,\n",
       " None,\n",
       " None,\n",
       " None,\n",
       " None,\n",
       " None,\n",
       " None,\n",
       " None,\n",
       " None,\n",
       " None,\n",
       " None,\n",
       " None,\n",
       " None,\n",
       " None,\n",
       " None,\n",
       " None,\n",
       " None,\n",
       " None,\n",
       " None,\n",
       " None,\n",
       " None,\n",
       " None,\n",
       " None,\n",
       " None,\n",
       " None,\n",
       " None,\n",
       " None,\n",
       " None,\n",
       " None,\n",
       " None,\n",
       " None,\n",
       " None,\n",
       " None,\n",
       " None,\n",
       " None,\n",
       " None,\n",
       " None,\n",
       " None,\n",
       " None,\n",
       " None,\n",
       " None,\n",
       " None,\n",
       " None,\n",
       " None,\n",
       " None,\n",
       " None,\n",
       " None,\n",
       " None,\n",
       " None,\n",
       " None,\n",
       " None,\n",
       " None,\n",
       " None,\n",
       " None,\n",
       " None,\n",
       " None,\n",
       " None,\n",
       " None,\n",
       " None,\n",
       " None,\n",
       " None,\n",
       " None,\n",
       " None,\n",
       " None,\n",
       " None,\n",
       " None,\n",
       " None,\n",
       " None,\n",
       " None,\n",
       " None,\n",
       " None,\n",
       " None,\n",
       " None,\n",
       " None,\n",
       " None,\n",
       " None,\n",
       " None,\n",
       " None,\n",
       " None,\n",
       " None,\n",
       " None,\n",
       " None,\n",
       " None,\n",
       " None,\n",
       " None,\n",
       " None,\n",
       " None,\n",
       " None,\n",
       " None,\n",
       " None,\n",
       " None,\n",
       " None,\n",
       " None,\n",
       " None,\n",
       " None,\n",
       " None,\n",
       " None,\n",
       " None,\n",
       " None,\n",
       " None,\n",
       " None,\n",
       " None,\n",
       " None,\n",
       " None,\n",
       " None,\n",
       " None,\n",
       " None,\n",
       " None,\n",
       " None,\n",
       " None,\n",
       " None,\n",
       " None,\n",
       " None,\n",
       " None,\n",
       " None,\n",
       " None,\n",
       " None,\n",
       " None,\n",
       " None,\n",
       " None,\n",
       " None,\n",
       " None,\n",
       " None,\n",
       " None,\n",
       " None,\n",
       " None,\n",
       " None,\n",
       " None,\n",
       " None,\n",
       " None,\n",
       " None,\n",
       " None,\n",
       " None,\n",
       " None,\n",
       " None,\n",
       " None,\n",
       " None,\n",
       " None,\n",
       " None,\n",
       " None,\n",
       " None,\n",
       " None,\n",
       " None,\n",
       " None,\n",
       " None,\n",
       " None,\n",
       " None,\n",
       " None,\n",
       " None,\n",
       " None,\n",
       " None,\n",
       " None,\n",
       " None,\n",
       " None,\n",
       " None,\n",
       " None,\n",
       " None,\n",
       " None,\n",
       " None,\n",
       " None,\n",
       " None,\n",
       " None,\n",
       " None,\n",
       " None,\n",
       " None,\n",
       " None,\n",
       " None,\n",
       " None,\n",
       " None,\n",
       " None,\n",
       " None,\n",
       " None,\n",
       " None,\n",
       " None,\n",
       " None,\n",
       " None,\n",
       " None,\n",
       " None,\n",
       " None,\n",
       " None,\n",
       " None,\n",
       " None,\n",
       " None,\n",
       " None,\n",
       " None,\n",
       " None,\n",
       " None,\n",
       " None,\n",
       " None,\n",
       " None,\n",
       " None,\n",
       " None,\n",
       " None,\n",
       " None,\n",
       " None,\n",
       " None,\n",
       " None,\n",
       " None,\n",
       " None,\n",
       " None,\n",
       " None,\n",
       " None,\n",
       " None,\n",
       " None,\n",
       " None,\n",
       " None,\n",
       " None,\n",
       " None,\n",
       " None,\n",
       " None,\n",
       " None,\n",
       " None,\n",
       " None,\n",
       " None,\n",
       " None,\n",
       " None,\n",
       " None,\n",
       " None,\n",
       " None,\n",
       " None,\n",
       " None,\n",
       " None,\n",
       " None,\n",
       " None,\n",
       " None,\n",
       " None,\n",
       " None,\n",
       " None,\n",
       " None,\n",
       " None,\n",
       " None,\n",
       " None,\n",
       " None,\n",
       " None,\n",
       " None,\n",
       " None,\n",
       " None,\n",
       " None,\n",
       " None,\n",
       " None,\n",
       " None,\n",
       " None,\n",
       " None,\n",
       " None,\n",
       " None,\n",
       " None,\n",
       " None,\n",
       " None,\n",
       " None,\n",
       " None,\n",
       " None,\n",
       " None,\n",
       " None,\n",
       " None,\n",
       " None,\n",
       " None,\n",
       " None,\n",
       " None,\n",
       " None,\n",
       " None,\n",
       " None,\n",
       " None,\n",
       " None,\n",
       " None,\n",
       " None,\n",
       " None,\n",
       " None,\n",
       " None,\n",
       " None,\n",
       " None,\n",
       " None,\n",
       " None,\n",
       " None,\n",
       " None,\n",
       " None,\n",
       " None,\n",
       " None,\n",
       " None,\n",
       " None,\n",
       " None,\n",
       " None,\n",
       " None,\n",
       " None,\n",
       " None,\n",
       " None,\n",
       " None,\n",
       " None,\n",
       " None,\n",
       " None,\n",
       " None,\n",
       " None,\n",
       " None,\n",
       " None,\n",
       " None,\n",
       " None,\n",
       " None,\n",
       " None,\n",
       " None,\n",
       " None,\n",
       " None,\n",
       " None,\n",
       " None,\n",
       " None,\n",
       " None,\n",
       " None,\n",
       " None,\n",
       " None,\n",
       " None,\n",
       " None,\n",
       " None,\n",
       " None,\n",
       " None,\n",
       " None,\n",
       " None,\n",
       " None,\n",
       " None,\n",
       " None,\n",
       " None,\n",
       " None,\n",
       " None,\n",
       " None,\n",
       " None,\n",
       " None,\n",
       " None,\n",
       " None,\n",
       " None,\n",
       " None,\n",
       " None,\n",
       " None,\n",
       " None,\n",
       " None,\n",
       " None,\n",
       " None,\n",
       " None,\n",
       " None,\n",
       " None,\n",
       " None,\n",
       " None,\n",
       " None,\n",
       " None,\n",
       " None,\n",
       " None,\n",
       " None,\n",
       " None,\n",
       " None,\n",
       " None,\n",
       " None,\n",
       " None,\n",
       " None,\n",
       " None,\n",
       " None,\n",
       " None,\n",
       " None,\n",
       " None,\n",
       " None,\n",
       " None,\n",
       " None,\n",
       " None,\n",
       " None,\n",
       " None,\n",
       " None,\n",
       " None,\n",
       " None,\n",
       " None,\n",
       " None,\n",
       " None,\n",
       " None,\n",
       " None,\n",
       " None,\n",
       " None,\n",
       " None,\n",
       " None,\n",
       " None,\n",
       " None,\n",
       " None,\n",
       " None,\n",
       " None,\n",
       " None,\n",
       " None,\n",
       " None,\n",
       " None,\n",
       " None,\n",
       " None,\n",
       " None,\n",
       " None,\n",
       " None,\n",
       " None,\n",
       " None,\n",
       " None,\n",
       " None,\n",
       " None,\n",
       " None,\n",
       " None,\n",
       " None,\n",
       " None,\n",
       " None,\n",
       " None,\n",
       " None,\n",
       " None,\n",
       " None,\n",
       " None,\n",
       " None,\n",
       " None,\n",
       " None,\n",
       " None,\n",
       " None,\n",
       " None,\n",
       " None,\n",
       " None,\n",
       " None,\n",
       " None,\n",
       " None,\n",
       " None,\n",
       " None,\n",
       " None,\n",
       " None,\n",
       " None,\n",
       " None,\n",
       " None,\n",
       " None,\n",
       " None,\n",
       " None,\n",
       " None,\n",
       " None,\n",
       " None,\n",
       " None,\n",
       " None,\n",
       " None,\n",
       " None,\n",
       " None,\n",
       " None,\n",
       " None,\n",
       " None,\n",
       " None,\n",
       " None,\n",
       " None,\n",
       " None,\n",
       " None,\n",
       " None,\n",
       " None,\n",
       " None,\n",
       " None,\n",
       " None,\n",
       " None,\n",
       " None,\n",
       " None,\n",
       " None,\n",
       " None,\n",
       " None,\n",
       " None,\n",
       " None,\n",
       " None,\n",
       " None,\n",
       " None,\n",
       " None,\n",
       " None,\n",
       " None,\n",
       " None,\n",
       " None,\n",
       " None,\n",
       " None,\n",
       " None,\n",
       " None,\n",
       " None,\n",
       " None,\n",
       " None,\n",
       " None,\n",
       " None,\n",
       " None,\n",
       " None,\n",
       " None,\n",
       " None,\n",
       " None,\n",
       " None,\n",
       " None,\n",
       " None,\n",
       " None,\n",
       " None,\n",
       " None,\n",
       " None,\n",
       " None,\n",
       " None,\n",
       " None,\n",
       " None,\n",
       " None,\n",
       " None,\n",
       " None,\n",
       " None,\n",
       " None,\n",
       " None,\n",
       " None,\n",
       " None,\n",
       " None,\n",
       " None,\n",
       " None,\n",
       " None,\n",
       " None,\n",
       " None,\n",
       " None,\n",
       " None,\n",
       " None,\n",
       " None,\n",
       " None,\n",
       " None,\n",
       " None,\n",
       " None,\n",
       " None,\n",
       " None,\n",
       " None,\n",
       " None,\n",
       " None,\n",
       " None,\n",
       " None,\n",
       " None,\n",
       " None,\n",
       " None,\n",
       " None,\n",
       " None,\n",
       " None,\n",
       " None,\n",
       " None,\n",
       " None,\n",
       " None,\n",
       " None,\n",
       " None,\n",
       " None,\n",
       " None,\n",
       " None,\n",
       " None,\n",
       " None,\n",
       " None,\n",
       " None,\n",
       " None,\n",
       " None,\n",
       " None,\n",
       " None,\n",
       " None,\n",
       " None,\n",
       " None,\n",
       " None,\n",
       " None,\n",
       " None,\n",
       " None,\n",
       " None,\n",
       " None,\n",
       " None,\n",
       " None,\n",
       " None,\n",
       " None,\n",
       " None,\n",
       " None,\n",
       " None,\n",
       " None,\n",
       " None,\n",
       " None,\n",
       " None,\n",
       " None,\n",
       " None,\n",
       " None,\n",
       " None,\n",
       " None,\n",
       " None,\n",
       " None,\n",
       " None,\n",
       " None,\n",
       " None,\n",
       " None,\n",
       " None,\n",
       " None,\n",
       " None,\n",
       " None,\n",
       " None,\n",
       " None,\n",
       " None,\n",
       " None,\n",
       " None,\n",
       " None,\n",
       " None,\n",
       " None,\n",
       " None,\n",
       " None,\n",
       " None,\n",
       " None,\n",
       " None,\n",
       " None,\n",
       " None,\n",
       " None,\n",
       " None,\n",
       " None,\n",
       " None,\n",
       " None,\n",
       " None,\n",
       " None,\n",
       " None,\n",
       " None,\n",
       " None,\n",
       " None,\n",
       " None,\n",
       " None,\n",
       " None,\n",
       " None,\n",
       " None,\n",
       " None,\n",
       " None,\n",
       " None,\n",
       " None,\n",
       " None,\n",
       " None,\n",
       " None,\n",
       " None,\n",
       " None,\n",
       " None,\n",
       " None,\n",
       " None,\n",
       " None,\n",
       " None,\n",
       " None,\n",
       " None,\n",
       " None,\n",
       " None,\n",
       " None,\n",
       " None,\n",
       " None,\n",
       " None,\n",
       " None,\n",
       " None,\n",
       " None,\n",
       " None,\n",
       " None,\n",
       " None,\n",
       " None,\n",
       " None,\n",
       " None,\n",
       " None,\n",
       " None,\n",
       " None,\n",
       " None,\n",
       " None,\n",
       " None,\n",
       " None,\n",
       " None,\n",
       " None,\n",
       " None,\n",
       " None,\n",
       " None,\n",
       " None,\n",
       " None,\n",
       " None,\n",
       " None,\n",
       " None,\n",
       " None,\n",
       " None,\n",
       " None,\n",
       " None,\n",
       " None,\n",
       " None,\n",
       " None,\n",
       " None,\n",
       " None,\n",
       " None,\n",
       " None,\n",
       " None,\n",
       " None,\n",
       " None,\n",
       " None,\n",
       " None,\n",
       " None,\n",
       " None,\n",
       " None,\n",
       " None,\n",
       " None,\n",
       " None,\n",
       " None,\n",
       " None,\n",
       " None,\n",
       " None,\n",
       " None,\n",
       " None,\n",
       " None,\n",
       " None,\n",
       " None,\n",
       " None,\n",
       " None,\n",
       " None,\n",
       " None,\n",
       " None,\n",
       " None,\n",
       " None,\n",
       " None]"
      ]
     },
     "execution_count": 24,
     "metadata": {},
     "output_type": "execute_result"
    }
   ],
   "source": [
    "stock_list_greater_point_five_corr_apple_open = [] \n",
    "[stock_list_greater_point_five_corr_apple_open.append(a + '_Open') for a in stock_list_greater_point_five_corr_apple.values]\n",
    "\n",
    "stock_list_greater_point_five_corr_apple_volume = []\n",
    "[stock_list_greater_point_five_corr_apple_volume.append(a + '_Volume') for a in stock_list_greater_point_five_corr_apple.values]\n",
    "\n",
    "stock_list_greater_point_five_corr_apple_low = [] \n",
    "[stock_list_greater_point_five_corr_apple_low.append(a + '_Low') for a in stock_list_greater_point_five_corr_apple.values]\n",
    "\n",
    "stock_list_greater_point_five_corr_apple_high = []\n",
    "[stock_list_greater_point_five_corr_apple_high.append(a + '_High') for a in stock_list_greater_point_five_corr_apple.values]\n",
    "\n",
    "stock_list_greater_point_five_corr_apple_close = []\n",
    "[stock_list_greater_point_five_corr_apple_close.append(a + '_Close') for a in stock_list_greater_point_five_corr_apple.values]"
   ]
  },
  {
   "cell_type": "code",
   "execution_count": 25,
   "id": "f2e23021-fe0e-47c8-adfa-56e042161578",
   "metadata": {
    "execution": {
     "iopub.execute_input": "2024-03-31T14:19:35.996448Z",
     "iopub.status.busy": "2024-03-31T14:19:35.996448Z",
     "iopub.status.idle": "2024-03-31T14:19:36.011450Z",
     "shell.execute_reply": "2024-03-31T14:19:36.010450Z",
     "shell.execute_reply.started": "2024-03-31T14:19:35.996448Z"
    }
   },
   "outputs": [],
   "source": [
    "stock_list_greater_point_five_corr_apple_open.append('AAPL_Open')\n",
    "stock_list_greater_point_five_corr_apple_volume.append('AAPL_Volume')\n",
    "stock_list_greater_point_five_corr_apple_low.append('AAPL_Low')\n",
    "stock_list_greater_point_five_corr_apple_high.append('AAPL_High')\n",
    "stock_list_greater_point_five_corr_apple_close.append('AAPL_Close')\n"
   ]
  },
  {
   "cell_type": "markdown",
   "id": "52ff21a4-f199-4c10-b38f-e2d089c6d73c",
   "metadata": {},
   "source": [
    "### Univariate data prediction"
   ]
  },
  {
   "cell_type": "code",
   "execution_count": 26,
   "id": "a26aad12-dcea-4b57-aa87-ed6c8717b30c",
   "metadata": {
    "execution": {
     "iopub.execute_input": "2024-03-31T14:19:36.013451Z",
     "iopub.status.busy": "2024-03-31T14:19:36.013451Z",
     "iopub.status.idle": "2024-03-31T14:19:36.026450Z",
     "shell.execute_reply": "2024-03-31T14:19:36.025488Z",
     "shell.execute_reply.started": "2024-03-31T14:19:36.013451Z"
    }
   },
   "outputs": [],
   "source": [
    "def split_sequence(sequence, n_steps):\n",
    "    X, y = [],[]\n",
    "    for i in range(len(sequence)):\n",
    "        end_idx = i + n_steps\n",
    "        if end_idx > len(sequence)-1:\n",
    "            break\n",
    "        seq_x, seq_y = sequence[i:end_idx], sequence[end_idx]\n",
    "        X.append(seq_x)\n",
    "        y.append(seq_y)\n",
    "    return np.array(X), np.array(y)"
   ]
  },
  {
   "cell_type": "code",
   "execution_count": 27,
   "id": "a511b6bb-3c59-43a8-bbd6-bf2b46ee285b",
   "metadata": {
    "execution": {
     "iopub.execute_input": "2024-03-31T14:19:36.027450Z",
     "iopub.status.busy": "2024-03-31T14:19:36.027450Z",
     "iopub.status.idle": "2024-03-31T14:19:36.073522Z",
     "shell.execute_reply": "2024-03-31T14:19:36.072554Z",
     "shell.execute_reply.started": "2024-03-31T14:19:36.027450Z"
    }
   },
   "outputs": [],
   "source": [
    "n_steps=10\n",
    "apple_open_x, apple_open_y = split_sequence(apple_open.to_numpy(), n_steps)"
   ]
  },
  {
   "cell_type": "code",
   "execution_count": 28,
   "id": "044731f8-b695-4850-9945-9398c23faab8",
   "metadata": {
    "execution": {
     "iopub.execute_input": "2024-03-31T14:19:36.074521Z",
     "iopub.status.busy": "2024-03-31T14:19:36.074521Z",
     "iopub.status.idle": "2024-03-31T14:19:36.089521Z",
     "shell.execute_reply": "2024-03-31T14:19:36.088520Z",
     "shell.execute_reply.started": "2024-03-31T14:19:36.074521Z"
    }
   },
   "outputs": [],
   "source": [
    "apple_open_x_train = apple_open_x[0:1160]\n",
    "apple_open_x_test = apple_open_x[1160:]\n",
    "\n",
    "apple_open_y_train = apple_open_y[0:1160]\n",
    "apple_open_y_test = apple_open_y[1160:]"
   ]
  },
  {
   "cell_type": "code",
   "execution_count": 29,
   "id": "5b3786cc-42a8-4b7f-af8c-2e93496b344e",
   "metadata": {
    "execution": {
     "iopub.execute_input": "2024-03-31T14:19:36.091523Z",
     "iopub.status.busy": "2024-03-31T14:19:36.091523Z",
     "iopub.status.idle": "2024-03-31T14:19:37.666440Z",
     "shell.execute_reply": "2024-03-31T14:19:37.665442Z",
     "shell.execute_reply.started": "2024-03-31T14:19:36.091523Z"
    }
   },
   "outputs": [
    {
     "name": "stdout",
     "output_type": "stream",
     "text": [
      "WARNING:tensorflow:Layer lstm will not use cuDNN kernels since it doesn't meet the criteria. It will use a generic GPU kernel as fallback when running on GPU.\n"
     ]
    }
   ],
   "source": [
    "n_features=1\n",
    "model1 = Sequential([\n",
    "    LSTM(10, activation='relu', input_shape=(n_steps, n_features)),\n",
    "    Dense(1, activation='relu')\n",
    "])\n",
    "\n",
    "model1.compile(optimizer='adam', loss='mse', metrics=['mse','mae'])"
   ]
  },
  {
   "cell_type": "code",
   "execution_count": 30,
   "id": "2b0f4b01-8f0b-4d3b-822c-16c9fe23aea2",
   "metadata": {
    "execution": {
     "iopub.execute_input": "2024-03-31T14:19:37.667441Z",
     "iopub.status.busy": "2024-03-31T14:19:37.667441Z",
     "iopub.status.idle": "2024-03-31T14:19:48.773921Z",
     "shell.execute_reply": "2024-03-31T14:19:48.772958Z",
     "shell.execute_reply.started": "2024-03-31T14:19:37.667441Z"
    },
    "scrolled": true
   },
   "outputs": [
    {
     "name": "stdout",
     "output_type": "stream",
     "text": [
      "Epoch 1/10\n",
      "37/37 [==============================] - 3s 27ms/step - loss: 10605.2764 - mse: 10605.2764 - mae: 94.3179 - val_loss: 8969.6260 - val_mse: 8969.6260 - val_mae: 94.6393\n",
      "Epoch 2/10\n",
      "37/37 [==============================] - 1s 22ms/step - loss: 1762.0975 - mse: 1762.0975 - mae: 36.1303 - val_loss: 87.3288 - val_mse: 87.3288 - val_mae: 8.0635\n",
      "Epoch 3/10\n",
      "37/37 [==============================] - 1s 23ms/step - loss: 41.9393 - mse: 41.9393 - mae: 5.1456 - val_loss: 23.2424 - val_mse: 23.2424 - val_mae: 4.2238\n",
      "Epoch 4/10\n",
      "37/37 [==============================] - 1s 22ms/step - loss: 22.6273 - mse: 22.6273 - mae: 3.5538 - val_loss: 11.7338 - val_mse: 11.7338 - val_mae: 2.9181\n",
      "Epoch 5/10\n",
      "37/37 [==============================] - 1s 23ms/step - loss: 11.5230 - mse: 11.5230 - mae: 2.6678 - val_loss: 5.9323 - val_mse: 5.9323 - val_mae: 1.9840\n",
      "Epoch 6/10\n",
      "37/37 [==============================] - 1s 26ms/step - loss: 9.9245 - mse: 9.9245 - mae: 2.4353 - val_loss: 7.3936 - val_mse: 7.3936 - val_mae: 2.2109\n",
      "Epoch 7/10\n",
      "37/37 [==============================] - 1s 24ms/step - loss: 10.2738 - mse: 10.2738 - mae: 2.5087 - val_loss: 5.6401 - val_mse: 5.6401 - val_mae: 1.8859\n",
      "Epoch 8/10\n",
      "37/37 [==============================] - 1s 24ms/step - loss: 9.3087 - mse: 9.3087 - mae: 2.3446 - val_loss: 6.3764 - val_mse: 6.3764 - val_mae: 2.0378\n",
      "Epoch 9/10\n",
      "37/37 [==============================] - 1s 26ms/step - loss: 9.0650 - mse: 9.0650 - mae: 2.2993 - val_loss: 6.1516 - val_mse: 6.1516 - val_mae: 1.9910\n",
      "Epoch 10/10\n",
      "37/37 [==============================] - 1s 25ms/step - loss: 8.8516 - mse: 8.8516 - mae: 2.2795 - val_loss: 5.6468 - val_mse: 5.6468 - val_mae: 1.8903\n"
     ]
    },
    {
     "data": {
      "text/plain": [
       "<keras.callbacks.History at 0x15a3e9f4610>"
      ]
     },
     "execution_count": 30,
     "metadata": {},
     "output_type": "execute_result"
    }
   ],
   "source": [
    "model1.fit(x=apple_open_x_train, y=apple_open_y_train, validation_data=[apple_open_x_test,apple_open_y_test], epochs=10)"
   ]
  },
  {
   "cell_type": "markdown",
   "id": "77017a1d-2104-4869-8f99-55e11c80a87b",
   "metadata": {},
   "source": [
    "| model results | model1 - apple only|\n",
    "| :----- | :-----|\n",
    "| Lags | 10 |\n",
    "| LSTM | 10 |\n",
    "| epochs | 10 |\n",
    "| train mae | 122 |\n",
    "| test mae | 186 |\n",
    "| train mse | 16881 |\n",
    "| test mse | 34747 |\n",
    "| ------- | model2 - apple only |\n",
    "| Lags | 50 |\n",
    "| LSTM | 10 |\n",
    "| epochs | 10 |\n",
    "| train mae | 118 |\n",
    "| test mae | 185 |\n",
    "| train mse | 17124 |\n",
    "| test mse | 185 |\n",
    "\n",
    "\n"
   ]
  },
  {
   "cell_type": "code",
   "execution_count": null,
   "id": "ab9017f9-7703-4077-b2e5-48e853e48403",
   "metadata": {},
   "outputs": [],
   "source": []
  },
  {
   "cell_type": "code",
   "execution_count": null,
   "id": "ea3537a3-63aa-4728-b8f7-c79e5642fa3f",
   "metadata": {},
   "outputs": [],
   "source": []
  },
  {
   "cell_type": "markdown",
   "id": "b98a7abe-9de8-4c35-b6ff-34bb11820d25",
   "metadata": {},
   "source": [
    "# Following tensorflow tutorial at https://www.tensorflow.org/tutorials/structured_data/time_series#the_weather_dataset"
   ]
  },
  {
   "cell_type": "markdown",
   "id": "e6ab93fa-4443-4ec7-909e-f85f0c1c3a40",
   "metadata": {},
   "source": [
    "Will be using the difference of the stocks for making the predictions and predicting apple stock difference"
   ]
  },
  {
   "cell_type": "code",
   "execution_count": 31,
   "id": "b8704ad2-9285-4064-8143-60789374d207",
   "metadata": {
    "execution": {
     "iopub.execute_input": "2024-03-31T14:19:48.774904Z",
     "iopub.status.busy": "2024-03-31T14:19:48.774904Z",
     "iopub.status.idle": "2024-03-31T14:19:48.917895Z",
     "shell.execute_reply": "2024-03-31T14:19:48.916889Z",
     "shell.execute_reply.started": "2024-03-31T14:19:48.774904Z"
    }
   },
   "outputs": [
    {
     "name": "stderr",
     "output_type": "stream",
     "text": [
      "C:\\Users\\lvden\\AppData\\Local\\Temp\\ipykernel_17176\\2788200610.py:7: PerformanceWarning: DataFrame is highly fragmented.  This is usually the result of calling `frame.insert` many times, which has poor performance.  Consider joining all columns at once using pd.concat(axis=1) instead. To get a de-fragmented frame, use `newframe = frame.copy()`\n",
      "  data_only_apple_corr['AAPL_Open'] = data_open['AAPL_Open'].copy()\n",
      "C:\\Users\\lvden\\AppData\\Local\\Temp\\ipykernel_17176\\2788200610.py:7: SettingWithCopyWarning: \n",
      "A value is trying to be set on a copy of a slice from a DataFrame.\n",
      "Try using .loc[row_indexer,col_indexer] = value instead\n",
      "\n",
      "See the caveats in the documentation: https://pandas.pydata.org/pandas-docs/stable/user_guide/indexing.html#returning-a-view-versus-a-copy\n",
      "  data_only_apple_corr['AAPL_Open'] = data_open['AAPL_Open'].copy()\n"
     ]
    }
   ],
   "source": [
    "n_features_selected = 761  ### This is all features that correlate with apple within 10 lags greater than 0.5 before taking the difference\n",
    "data_only_apple_corr = data_open[stock_list_greater_point_five_corr_apple_open[0:n_features_selected]]\n",
    "try:\n",
    "    data_only_apple_corr = data_only_apple_corr.drop(['AAPL_Open'])\n",
    "except:\n",
    "    pass\n",
    "data_only_apple_corr['AAPL_Open'] = data_open['AAPL_Open'].copy()\n"
   ]
  },
  {
   "cell_type": "code",
   "execution_count": 32,
   "id": "beeeb73d-f00e-44c1-9956-6492fa2c86bc",
   "metadata": {
    "execution": {
     "iopub.execute_input": "2024-03-31T14:19:48.919906Z",
     "iopub.status.busy": "2024-03-31T14:19:48.918889Z",
     "iopub.status.idle": "2024-03-31T14:19:49.370581Z",
     "shell.execute_reply": "2024-03-31T14:19:49.369582Z",
     "shell.execute_reply.started": "2024-03-31T14:19:48.919906Z"
    }
   },
   "outputs": [
    {
     "name": "stderr",
     "output_type": "stream",
     "text": [
      "C:\\Users\\lvden\\AppData\\Local\\Temp\\ipykernel_17176\\4281901595.py:23: PerformanceWarning: DataFrame is highly fragmented.  This is usually the result of calling `frame.insert` many times, which has poor performance.  Consider joining all columns at once using pd.concat(axis=1) instead. To get a de-fragmented frame, use `newframe = frame.copy()`\n",
      "  data_only_apple_corr['day_of_year'] = day_of_year_list\n",
      "C:\\Users\\lvden\\AppData\\Local\\Temp\\ipykernel_17176\\4281901595.py:30: PerformanceWarning: DataFrame is highly fragmented.  This is usually the result of calling `frame.insert` many times, which has poor performance.  Consider joining all columns at once using pd.concat(axis=1) instead. To get a de-fragmented frame, use `newframe = frame.copy()`\n",
      "  data_only_apple_corr['day_of_week'] = day_of_week_list\n"
     ]
    }
   ],
   "source": [
    "### Data Adjustments\n",
    "differencing_flag = True\n",
    "standardize_flag = True\n",
    "day_of_year_flag = True\n",
    "day_of_week_flag = True\n",
    "\n",
    "volume_all_stocks_flag = True \n",
    "low_all_stocks_flag = True\n",
    "high_all_stocks_flag = True\n",
    "\n",
    "lstm_units = 80\n",
    "\n",
    "### Differencing\n",
    "if differencing_flag == True:\n",
    "    data_only_apple_corr = data_only_apple_corr.diff().dropna()\n",
    "\n",
    "\n",
    "if day_of_year_flag == True:\n",
    "    day_of_year_list = []\n",
    "    for val in data_only_apple_corr.index:\n",
    "        day_of_year = pd.Period(val).day_of_year\n",
    "        day_of_year_list.append(day_of_year)\n",
    "    data_only_apple_corr['day_of_year'] = day_of_year_list\n",
    "\n",
    "if day_of_week_flag == True:\n",
    "    day_of_week_list = []\n",
    "    for val in data_only_apple_corr.index:\n",
    "        day_of_week = pd.Period(val).day_of_week\n",
    "        day_of_week_list.append(day_of_week)\n",
    "    data_only_apple_corr['day_of_week'] = day_of_week_list\n",
    "\n",
    "if volume_all_stocks_flag == True:\n",
    "    data_only_apple_corr = pd.merge(data_only_apple_corr, \n",
    "                                    data_volume[stock_list_greater_point_five_corr_apple_volume[0:n_features_selected]],\n",
    "                                   on='Date')\n",
    "if low_all_stocks_flag == True:\n",
    "    data_only_apple_corr = pd.merge(data_only_apple_corr, \n",
    "                                    data_low[stock_list_greater_point_five_corr_apple_low[0:n_features_selected]],\n",
    "                                   on='Date')\n",
    "\n",
    "if high_all_stocks_flag == True:\n",
    "    data_only_apple_corr = pd.merge(data_only_apple_corr, \n",
    "                                    data_high[stock_list_greater_point_five_corr_apple_high[0:n_features_selected]],\n",
    "                                   on='Date')\n"
   ]
  },
  {
   "cell_type": "code",
   "execution_count": 33,
   "id": "5cead19e-9cc8-45bb-b6e8-fc8c4ca18b25",
   "metadata": {
    "execution": {
     "iopub.execute_input": "2024-03-31T14:19:49.371593Z",
     "iopub.status.busy": "2024-03-31T14:19:49.371593Z",
     "iopub.status.idle": "2024-03-31T14:19:49.386582Z",
     "shell.execute_reply": "2024-03-31T14:19:49.385584Z",
     "shell.execute_reply.started": "2024-03-31T14:19:49.371593Z"
    }
   },
   "outputs": [],
   "source": [
    "column_indices = {name: i for i, name in enumerate(data_only_apple_corr.columns)}\n",
    "\n",
    "\n",
    "n = len(data_only_apple_corr)\n",
    "train_df = data_only_apple_corr[0:int(n*0.7)]\n",
    "val_df = data_only_apple_corr[int(n*0.7):int(n*0.9)]\n",
    "test_df = data_only_apple_corr[int(n*0.9):]\n",
    "\n",
    "num_features = data_only_apple_corr.shape[1]\n"
   ]
  },
  {
   "cell_type": "code",
   "execution_count": 34,
   "id": "a6c935ec-92f3-444b-bdbb-27167dc22444",
   "metadata": {
    "execution": {
     "iopub.execute_input": "2024-03-31T14:19:49.387598Z",
     "iopub.status.busy": "2024-03-31T14:19:49.387598Z",
     "iopub.status.idle": "2024-03-31T14:19:49.450583Z",
     "shell.execute_reply": "2024-03-31T14:19:49.449640Z",
     "shell.execute_reply.started": "2024-03-31T14:19:49.387598Z"
    }
   },
   "outputs": [],
   "source": [
    "if standardize_flag == True:\n",
    "    train_mean = train_df.mean()\n",
    "    train_std = train_df.std()\n",
    "    train_df = (train_df - train_mean) / train_std\n",
    "    val_df = (val_df - train_mean) / train_std\n",
    "    test_df = (test_df - train_mean) / train_std"
   ]
  },
  {
   "cell_type": "code",
   "execution_count": 35,
   "id": "34690304-0123-4820-8ef8-3bd88cdb92f4",
   "metadata": {
    "execution": {
     "iopub.execute_input": "2024-03-31T14:19:49.450583Z",
     "iopub.status.busy": "2024-03-31T14:19:49.450583Z",
     "iopub.status.idle": "2024-03-31T14:19:49.466583Z",
     "shell.execute_reply": "2024-03-31T14:19:49.465581Z",
     "shell.execute_reply.started": "2024-03-31T14:19:49.450583Z"
    }
   },
   "outputs": [],
   "source": [
    "class WindowGenerator():\n",
    "  def __init__(self, input_width, label_width, shift,\n",
    "               train_df=train_df, val_df=val_df, test_df=test_df,\n",
    "               label_columns=None):\n",
    "    # Store the raw data.\n",
    "    self.train_df = train_df\n",
    "    self.val_df = val_df\n",
    "    self.test_df = test_df\n",
    "\n",
    "    # Work out the label column indices.\n",
    "    self.label_columns = label_columns\n",
    "    if label_columns is not None:\n",
    "      self.label_columns_indices = {name: i for i, name in\n",
    "                                    enumerate(label_columns)}\n",
    "    self.column_indices = {name: i for i, name in\n",
    "                           enumerate(train_df.columns)}\n",
    "\n",
    "    # Work out the window parameters.\n",
    "    self.input_width = input_width\n",
    "    self.label_width = label_width\n",
    "    self.shift = shift\n",
    "\n",
    "    self.total_window_size = input_width + shift\n",
    "\n",
    "    self.input_slice = slice(0, input_width)\n",
    "    self.input_indices = np.arange(self.total_window_size)[self.input_slice]\n",
    "\n",
    "    self.label_start = self.total_window_size - self.label_width\n",
    "    self.labels_slice = slice(self.label_start, None)\n",
    "    self.label_indices = np.arange(self.total_window_size)[self.labels_slice]\n",
    "\n",
    "  def __repr__(self):\n",
    "    return '\\n'.join([\n",
    "        f'Total window size: {self.total_window_size}',\n",
    "        f'Input indices: {self.input_indices}',\n",
    "        f'Label indices: {self.label_indices}',\n",
    "        f'Label column name(s): {self.label_columns}'])\n"
   ]
  },
  {
   "cell_type": "code",
   "execution_count": 36,
   "id": "d7f13b72-4685-4a36-ad6c-fd7529d6e9f1",
   "metadata": {
    "execution": {
     "iopub.execute_input": "2024-03-31T14:19:49.467582Z",
     "iopub.status.busy": "2024-03-31T14:19:49.467582Z",
     "iopub.status.idle": "2024-03-31T14:19:49.482582Z",
     "shell.execute_reply": "2024-03-31T14:19:49.481582Z",
     "shell.execute_reply.started": "2024-03-31T14:19:49.467582Z"
    }
   },
   "outputs": [],
   "source": [
    "@property\n",
    "def train(self):\n",
    "  return self.make_dataset(self.train_df)\n",
    "\n",
    "@property\n",
    "def val(self):\n",
    "  return self.make_dataset(self.val_df)\n",
    "\n",
    "@property\n",
    "def test(self):\n",
    "  return self.make_dataset(self.test_df)\n",
    "\n",
    "@property\n",
    "def example(self):\n",
    "  \"\"\"Get and cache an example batch of `inputs, labels` for plotting.\"\"\"\n",
    "  result = getattr(self, '_example', None)\n",
    "  if result is None:\n",
    "    # No example batch was found, so get one from the `.train` dataset\n",
    "    result = next(iter(self.train))\n",
    "    # And cache it for next time\n",
    "    self._example = result\n",
    "  return result\n",
    "\n",
    "WindowGenerator.train = train\n",
    "WindowGenerator.val = val\n",
    "WindowGenerator.test = test\n",
    "WindowGenerator.example = example\n"
   ]
  },
  {
   "cell_type": "code",
   "execution_count": 37,
   "id": "20b1a576-530b-4474-86ca-a1e14cbdffc9",
   "metadata": {
    "execution": {
     "iopub.execute_input": "2024-03-31T14:19:49.484583Z",
     "iopub.status.busy": "2024-03-31T14:19:49.483601Z",
     "iopub.status.idle": "2024-03-31T14:19:49.497583Z",
     "shell.execute_reply": "2024-03-31T14:19:49.496583Z",
     "shell.execute_reply.started": "2024-03-31T14:19:49.484583Z"
    }
   },
   "outputs": [],
   "source": [
    "def plot(self, model=None, plot_col='AAPL_Open', max_subplots=1):\n",
    "  inputs, labels = self.example\n",
    "  plt.figure(figsize=(12, 8))\n",
    "  plot_col_index = self.column_indices[plot_col]\n",
    "  max_n = min(max_subplots, len(inputs))\n",
    "  for n in range(max_n):\n",
    "    plt.subplot(max_n, 1, n+1)\n",
    "    plt.ylabel(f'{plot_col} [normed]')\n",
    "    plt.plot(self.input_indices, inputs[n, :, plot_col_index],\n",
    "             label='Inputs', marker='.', zorder=-10)\n",
    "\n",
    "    if self.label_columns:\n",
    "      label_col_index = self.label_columns_indices.get(plot_col, None)\n",
    "    else:\n",
    "      label_col_index = plot_col_index\n",
    "\n",
    "    if label_col_index is None:\n",
    "      continue\n",
    "\n",
    "    plt.scatter(self.label_indices, labels[n, :, label_col_index],\n",
    "                edgecolors='k', label='Labels', c='#2ca02c', s=64)\n",
    "    if model is not None:\n",
    "      predictions = model(inputs)\n",
    "      plt.scatter(self.label_indices, predictions[n, :, label_col_index],\n",
    "                  marker='X', edgecolors='k', label='Predictions',\n",
    "                  c='#ff7f0e', s=64)\n",
    "\n",
    "    if n == 0:\n",
    "      plt.legend()\n",
    "\n",
    "  plt.xlabel('Time [d]')\n",
    "\n",
    "WindowGenerator.plot = plot"
   ]
  },
  {
   "cell_type": "code",
   "execution_count": 38,
   "id": "ef4e19e5-86e1-4271-845a-fe0057119faf",
   "metadata": {
    "execution": {
     "iopub.execute_input": "2024-03-31T14:19:49.498583Z",
     "iopub.status.busy": "2024-03-31T14:19:49.498583Z",
     "iopub.status.idle": "2024-03-31T14:19:49.512582Z",
     "shell.execute_reply": "2024-03-31T14:19:49.511582Z",
     "shell.execute_reply.started": "2024-03-31T14:19:49.498583Z"
    }
   },
   "outputs": [],
   "source": [
    "def make_dataset(self, data):\n",
    "  data = np.array(data, dtype=np.float32)\n",
    "  ds = tf.keras.utils.timeseries_dataset_from_array(\n",
    "      data=data,\n",
    "      targets=None,\n",
    "      sequence_length=self.total_window_size,\n",
    "      sequence_stride=1,\n",
    "      shuffle=True,\n",
    "      batch_size=32,)\n",
    "\n",
    "  ds = ds.map(self.split_window)\n",
    "\n",
    "  return ds\n",
    "\n",
    "WindowGenerator.make_dataset = make_dataset\n"
   ]
  },
  {
   "cell_type": "code",
   "execution_count": 39,
   "id": "35d601c7-fdd2-4b67-a11c-8c67985bf482",
   "metadata": {
    "execution": {
     "iopub.execute_input": "2024-03-31T14:19:49.513584Z",
     "iopub.status.busy": "2024-03-31T14:19:49.512582Z",
     "iopub.status.idle": "2024-03-31T14:19:49.528583Z",
     "shell.execute_reply": "2024-03-31T14:19:49.527591Z",
     "shell.execute_reply.started": "2024-03-31T14:19:49.513584Z"
    }
   },
   "outputs": [],
   "source": [
    "def split_window(self, features):\n",
    "  inputs = features[:, self.input_slice, :]\n",
    "  labels = features[:, self.labels_slice, :]\n",
    "  if self.label_columns is not None:\n",
    "    labels = tf.stack(\n",
    "        [labels[:, :, self.column_indices[name]] for name in self.label_columns],\n",
    "        axis=-1)\n",
    "\n",
    "  # Slicing doesn't preserve static shape information, so set the shapes\n",
    "  # manually. This way the `tf.data.Datasets` are easier to inspect.\n",
    "  inputs.set_shape([None, self.input_width, None])\n",
    "  labels.set_shape([None, self.label_width, None])\n",
    "\n",
    "  return inputs, labels\n",
    "\n",
    "WindowGenerator.split_window = split_window\n"
   ]
  },
  {
   "cell_type": "markdown",
   "id": "a17dcefd-7c44-45cd-8ef1-a7447c7bf9a9",
   "metadata": {},
   "source": [
    "### Creating a naive baseline model that predicts the previous value as the next value "
   ]
  },
  {
   "cell_type": "code",
   "execution_count": 40,
   "id": "ddefb735-ae94-4ed3-a967-d44cc797facf",
   "metadata": {
    "execution": {
     "iopub.execute_input": "2024-03-31T14:19:49.529583Z",
     "iopub.status.busy": "2024-03-31T14:19:49.529583Z",
     "iopub.status.idle": "2024-03-31T14:19:49.542582Z",
     "shell.execute_reply": "2024-03-31T14:19:49.542582Z",
     "shell.execute_reply.started": "2024-03-31T14:19:49.529583Z"
    }
   },
   "outputs": [],
   "source": [
    "class Baseline(tf.keras.Model):\n",
    "  def __init__(self, label_index=None):\n",
    "    super().__init__()\n",
    "    self.label_index = label_index\n",
    "\n",
    "  def call(self, inputs):\n",
    "    if self.label_index is None:\n",
    "      return inputs\n",
    "    result = inputs[:, :, self.label_index]\n",
    "    return result[:, :, tf.newaxis]\n"
   ]
  },
  {
   "cell_type": "code",
   "execution_count": 41,
   "id": "2ed10982-f059-4565-b68f-70e90166b244",
   "metadata": {
    "execution": {
     "iopub.execute_input": "2024-03-31T14:19:49.549582Z",
     "iopub.status.busy": "2024-03-31T14:19:49.548583Z",
     "iopub.status.idle": "2024-03-31T14:19:49.558585Z",
     "shell.execute_reply": "2024-03-31T14:19:49.557582Z",
     "shell.execute_reply.started": "2024-03-31T14:19:49.549582Z"
    }
   },
   "outputs": [
    {
     "data": {
      "text/plain": [
       "Total window size: 2\n",
       "Input indices: [0]\n",
       "Label indices: [1]\n",
       "Label column name(s): ['AAPL_Open']"
      ]
     },
     "execution_count": 41,
     "metadata": {},
     "output_type": "execute_result"
    }
   ],
   "source": [
    "single_step_window = WindowGenerator(\n",
    "    input_width=1, label_width=1, shift=1,\n",
    "    label_columns=['AAPL_Open'])\n",
    "single_step_window\n"
   ]
  },
  {
   "cell_type": "code",
   "execution_count": 42,
   "id": "f2cff885-490a-4f48-b067-390d7f7e3485",
   "metadata": {
    "execution": {
     "iopub.execute_input": "2024-03-31T14:19:49.559583Z",
     "iopub.status.busy": "2024-03-31T14:19:49.559583Z",
     "iopub.status.idle": "2024-03-31T14:19:49.954121Z",
     "shell.execute_reply": "2024-03-31T14:19:49.954121Z",
     "shell.execute_reply.started": "2024-03-31T14:19:49.559583Z"
    }
   },
   "outputs": [
    {
     "name": "stdout",
     "output_type": "stream",
     "text": [
      "8/8 [==============================] - 0s 3ms/step - loss: 2.4224 - mean_absolute_error: 1.1933 - mean_absolute_percentage_error: 4096.6313\n"
     ]
    }
   ],
   "source": [
    "baseline = Baseline(label_index=column_indices['AAPL_Open'])\n",
    "\n",
    "baseline.compile(loss=tf.keras.losses.MeanSquaredError(),\n",
    "                 metrics=[tf.keras.metrics.MeanAbsoluteError(),\n",
    "                         tf.keras.metrics.MeanAbsolutePercentageError()])\n",
    "\n",
    "val_performance = {}\n",
    "performance = {}\n",
    "val_performance['Baseline'] = baseline.evaluate(single_step_window.val, return_dict=True)\n",
    "performance['Baseline'] = baseline.evaluate(single_step_window.test, verbose=0, return_dict=True)\n"
   ]
  },
  {
   "cell_type": "code",
   "execution_count": 43,
   "id": "c307d96e-1165-4e8b-b1b0-6ef21988240a",
   "metadata": {
    "execution": {
     "iopub.execute_input": "2024-03-31T14:19:49.956113Z",
     "iopub.status.busy": "2024-03-31T14:19:49.955113Z",
     "iopub.status.idle": "2024-03-31T14:19:49.970587Z",
     "shell.execute_reply": "2024-03-31T14:19:49.969586Z",
     "shell.execute_reply.started": "2024-03-31T14:19:49.956113Z"
    }
   },
   "outputs": [
    {
     "data": {
      "text/plain": [
       "Total window size: 11\n",
       "Input indices: [0 1 2 3 4 5 6 7 8 9]\n",
       "Label indices: [10]\n",
       "Label column name(s): ['AAPL_Open']"
      ]
     },
     "execution_count": 43,
     "metadata": {},
     "output_type": "execute_result"
    }
   ],
   "source": [
    "wide_window = WindowGenerator(\n",
    "    input_width=10, label_width=1, shift=1,\n",
    "    label_columns=['AAPL_Open'])\n",
    "\n",
    "wide_window\n"
   ]
  },
  {
   "cell_type": "markdown",
   "id": "20406257-2a26-49c6-9f73-56480ec8d448",
   "metadata": {},
   "source": [
    "### Multivariate model first pass through with model parameters printed below performance."
   ]
  },
  {
   "cell_type": "code",
   "execution_count": 44,
   "id": "c518801e-6b33-46d4-bc01-ee45d8679a15",
   "metadata": {
    "execution": {
     "iopub.execute_input": "2024-03-31T14:19:49.971588Z",
     "iopub.status.busy": "2024-03-31T14:19:49.971588Z",
     "iopub.status.idle": "2024-03-31T14:19:49.986587Z",
     "shell.execute_reply": "2024-03-31T14:19:49.985587Z",
     "shell.execute_reply.started": "2024-03-31T14:19:49.971588Z"
    }
   },
   "outputs": [],
   "source": [
    "lstm_model = tf.keras.models.Sequential([\n",
    "    # Shape [batch, time, features] => [batch, time, lstm_units]\n",
    "    tf.keras.layers.LSTM(32, return_sequences=True),\n",
    "    # Shape => [batch, time, features]\n",
    "    tf.keras.layers.Dense(units=1),\n",
    "])\n"
   ]
  },
  {
   "cell_type": "code",
   "execution_count": 45,
   "id": "59ec0574-e1bb-44e0-bbf4-404e0b7dc893",
   "metadata": {
    "execution": {
     "iopub.execute_input": "2024-03-31T14:19:49.987588Z",
     "iopub.status.busy": "2024-03-31T14:19:49.987588Z",
     "iopub.status.idle": "2024-03-31T14:19:50.002586Z",
     "shell.execute_reply": "2024-03-31T14:19:50.001588Z",
     "shell.execute_reply.started": "2024-03-31T14:19:49.987588Z"
    }
   },
   "outputs": [],
   "source": [
    "MAX_EPOCHS = 200\n",
    "\n",
    "def compile_and_fit(model, window, patience=5):\n",
    "  early_stopping = tf.keras.callbacks.EarlyStopping(monitor='val_loss',\n",
    "                                                    patience=patience,\n",
    "                                                    mode='min')\n",
    "\n",
    "  model.compile(loss=tf.keras.losses.MeanSquaredError(),\n",
    "                optimizer=tf.keras.optimizers.Adam(),\n",
    "                metrics=[tf.keras.metrics.MeanAbsoluteError(),\n",
    "                        tf.keras.metrics.MAPE])\n",
    "\n",
    "  history = model.fit(window.train, epochs=MAX_EPOCHS,\n",
    "                      validation_data=window.val,\n",
    "                      callbacks=[early_stopping])\n",
    "  return history\n"
   ]
  },
  {
   "cell_type": "code",
   "execution_count": 46,
   "id": "0b5bb57a-b528-47dd-91ce-92df422fd4bf",
   "metadata": {
    "execution": {
     "iopub.execute_input": "2024-03-31T14:19:50.003588Z",
     "iopub.status.busy": "2024-03-31T14:19:50.003588Z",
     "iopub.status.idle": "2024-03-31T14:19:56.405281Z",
     "shell.execute_reply": "2024-03-31T14:19:56.404278Z",
     "shell.execute_reply.started": "2024-03-31T14:19:50.003588Z"
    }
   },
   "outputs": [
    {
     "name": "stdout",
     "output_type": "stream",
     "text": [
      "8/8 [==============================] - 0s 4ms/step - loss: 1.1978 - mean_absolute_error: 0.8650 - mean_absolute_percentage_error: 861.6695\n",
      "{'Baseline': {'loss': 2.0856449604034424, 'mean_absolute_error': 1.005099892616272, 'mean_absolute_percentage_error': 896.5127563476562}, 'LSTM': {'loss': 0.9011757969856262, 'mean_absolute_error': 0.7085373401641846, 'mean_absolute_percentage_error': 262.1198425292969}}\n"
     ]
    }
   ],
   "source": [
    "history = compile_and_fit(lstm_model, wide_window)\n",
    "\n",
    "IPython.display.clear_output()\n",
    "val_performance['LSTM'] = lstm_model.evaluate(wide_window.val, return_dict=True)\n",
    "performance['LSTM'] = lstm_model.evaluate(wide_window.test, verbose=0, return_dict=True)\n",
    "print(performance)"
   ]
  },
  {
   "cell_type": "code",
   "execution_count": 47,
   "id": "70eb530d-3c99-4ef2-b1f7-f2b9aa7ac3a4",
   "metadata": {
    "execution": {
     "iopub.execute_input": "2024-03-31T14:19:56.406275Z",
     "iopub.status.busy": "2024-03-31T14:19:56.406275Z",
     "iopub.status.idle": "2024-03-31T14:19:56.421276Z",
     "shell.execute_reply": "2024-03-31T14:19:56.420276Z",
     "shell.execute_reply.started": "2024-03-31T14:19:56.406275Z"
    }
   },
   "outputs": [],
   "source": [
    "# wide_window.plot(lstm_model)\n",
    "# plt.suptitle('Three random predictions')\n",
    "# plt.show"
   ]
  },
  {
   "cell_type": "markdown",
   "id": "27c302e1-bb94-4ed7-97f1-513cad781070",
   "metadata": {},
   "source": [
    "### Model and data parameters used for this model"
   ]
  },
  {
   "cell_type": "code",
   "execution_count": 48,
   "id": "b9357d64-34e5-46cf-984d-460b08c422fd",
   "metadata": {
    "execution": {
     "iopub.execute_input": "2024-03-31T14:19:56.422278Z",
     "iopub.status.busy": "2024-03-31T14:19:56.422278Z",
     "iopub.status.idle": "2024-03-31T14:19:56.437276Z",
     "shell.execute_reply": "2024-03-31T14:19:56.436278Z",
     "shell.execute_reply.started": "2024-03-31T14:19:56.422278Z"
    }
   },
   "outputs": [],
   "source": [
    "for key in performance:\n",
    "    for key2 in performance[key]:\n",
    "        performance[key][key2] = np.round(performance[key][key2], 5)"
   ]
  },
  {
   "cell_type": "code",
   "execution_count": 49,
   "id": "8c7b4414-46cd-4863-8d32-8a4b48985c48",
   "metadata": {
    "execution": {
     "iopub.execute_input": "2024-03-31T14:19:56.438276Z",
     "iopub.status.busy": "2024-03-31T14:19:56.438276Z",
     "iopub.status.idle": "2024-03-31T14:19:56.453276Z",
     "shell.execute_reply": "2024-03-31T14:19:56.452275Z",
     "shell.execute_reply.started": "2024-03-31T14:19:56.438276Z"
    }
   },
   "outputs": [
    {
     "name": "stdout",
     "output_type": "stream",
     "text": [
      "{'Baseline': {'loss': 2.08564, 'mean_absolute_error': 1.0051, 'mean_absolute_percentage_error': 896.51276}, 'LSTM': {'loss': 0.90118, 'mean_absolute_error': 0.70854, 'mean_absolute_percentage_error': 262.11984}}\n",
      "standardize: True\n",
      "differencing: True\n",
      "day_of_year:True\n",
      "day of week: True\n",
      "volume: True\n",
      "high: True\n",
      "low: True\n",
      "num features: 761\n",
      "LSTM units: 80\n"
     ]
    }
   ],
   "source": [
    "print(performance)\n",
    "print('standardize: ' + str(standardize_flag))\n",
    "print('differencing: ' + str(differencing_flag))\n",
    "print('day_of_year:' + str(day_of_year_flag))\n",
    "print('day of week: ' + str(day_of_week_flag))\n",
    "print('volume: ' + str(volume_all_stocks_flag))\n",
    "print('high: ' + str(high_all_stocks_flag))\n",
    "print('low: ' + str(low_all_stocks_flag))\n",
    "print('num features: ' + str(n_features_selected))\n",
    "print('LSTM units: ' + str(lstm_units))"
   ]
  },
  {
   "cell_type": "markdown",
   "id": "41e4ce8e-8ba8-45cc-bb6f-de51ce0651a8",
   "metadata": {},
   "source": [
    "## Function to conduct a grid search of model parameters"
   ]
  },
  {
   "cell_type": "code",
   "execution_count": 50,
   "id": "5186d1ed-789e-4d46-b7eb-49f046337a6a",
   "metadata": {
    "execution": {
     "iopub.execute_input": "2024-03-31T14:19:56.454275Z",
     "iopub.status.busy": "2024-03-31T14:19:56.454275Z",
     "iopub.status.idle": "2024-03-31T14:19:56.485276Z",
     "shell.execute_reply": "2024-03-31T14:19:56.484285Z",
     "shell.execute_reply.started": "2024-03-31T14:19:56.454275Z"
    }
   },
   "outputs": [],
   "source": [
    "def lstm_apple_modeling_v4(data_open, stock_list_greater_point_five_corr_apple_open,\n",
    "                        stock_list_greater_point_five_corr_apple_volume,\n",
    "                        stock_list_greater_point_five_corr_apple_low,\n",
    "                        stock_list_greater_point_five_corr_apple_high,    \n",
    "                        stock_list_greater_point_five_corr_apple_close,\n",
    "                        aux_data,\n",
    "                        n_features_selected,\n",
    "                       differencing_flag, standardize_flag, aux_data_flag, day_of_year_flag, day_of_week_flag,\n",
    "                       volume_all_stocks_flag, low_all_stocks_flag, high_all_stocks_flag, close_all_stocks_flag, lstm_units,\n",
    "                          lag_len = 10):\n",
    "\n",
    "    '''VERSION 4 INCLUDES THE CLOSED SALE PRICE AND ABILITY TO INCREASE LAG SIZE\n",
    "        data_open is the data frame data_open\n",
    "       stock_list_greater_point_five_corr_apple_open is stock_list_greater_point_five_corr_apple_open\n",
    "       n_features_selected is between 1 and 761\n",
    "       all flags are booleans\n",
    "       lstm_units is the number of units in the lstm'''\n",
    "    ### Original data and the number of additional points that we want\n",
    "    n_features_selected = n_features_selected\n",
    "    data_only_apple_corr = data_open[stock_list_greater_point_five_corr_apple_open[0:n_features_selected]]\n",
    "    try:\n",
    "        data_only_apple_corr = data_only_apple_corr.drop(['AAPL_Open'])\n",
    "    except:\n",
    "        pass\n",
    "    data_only_apple_corr['AAPL_Open'] = data_open['AAPL_Open'].copy()\n",
    "\n",
    "    ### Data Adjustments\n",
    "    differencing_flag = differencing_flag\n",
    "    standardize_flag = standardize_flag\n",
    "    day_of_year_flag = day_of_year_flag\n",
    "    day_of_week_flag = day_of_week_flag\n",
    "    \n",
    "    volume_all_stocks_flag = volume_all_stocks_flag \n",
    "    low_all_stocks_flag = low_all_stocks_flag\n",
    "    high_all_stocks_flag = high_all_stocks_flag\n",
    "    \n",
    "    lstm_units = lstm_units\n",
    "    \n",
    "    ### Differencing\n",
    "    if differencing_flag == True:\n",
    "        data_only_apple_corr = data_only_apple_corr.diff().dropna()\n",
    "    \n",
    "    ### Introducing new features\n",
    "    if aux_data_flag == True:\n",
    "        aux_data2 = aux_data.copy()\n",
    "        ### Need to replace string dollar signs as ints\n",
    "        sales_list = []\n",
    "        [sales_list.append(int(float(a.split('$')[1].strip().split(',')[0] + a.split('$')[1].strip().split(',')[1]))) for a in aux_data2[' Sales ']]\n",
    "        freecashflow_list = []\n",
    "        [freecashflow_list.append(int(float(a.split('$')[1].strip().split(',')[0] + a.split('$')[1].strip().split(',')[1]))) for a in aux_data2[' FreeCashFlow ']]\n",
    "        cash_list = []\n",
    "        [cash_list.append(int(float(a.split('$')[1].strip().split(',')[0] + a.split('$')[1].strip().split(',')[1]))) for a in aux_data2[' Cash ']]\n",
    "        debt_list = []\n",
    "        [debt_list.append(int(float(a.split('$')[1].strip().split(',')[0] + a.split('$')[1].strip().split(',')[1]))) for a in aux_data2[' Long Term Debt ']]\n",
    "        \n",
    "        aux_data2[' Sales '] = sales_list\n",
    "        aux_data2[' FreeCashFlow '] = freecashflow_list\n",
    "        aux_data2[' Cash '] = cash_list\n",
    "        aux_data2[' Long Term Debt '] = debt_list\n",
    "\n",
    "        aux_data2 = aux_data2.rename({' Sales ':'Sales', list(aux_data2.columns)[2]:'FreeCashFlow', ' Cash ':'Cash', list(aux_data2.columns)[4]:'LongTermDebt'})\n",
    "        date_list = []\n",
    "        [date_list.append(pd.to_datetime(a).date()) for a in aux_data2['Date']] ### Need to change the dates to same object to match and \n",
    "        ### change back the date object in the primary dataframe to continue merging with the rest of the data\n",
    "        aux_data2['Date'] = date_list\n",
    "        aux_data2 = aux_data2.set_index('Date')\n",
    "        aux_data_sub = aux_data2[aux_data2.index >=  pd.to_datetime(min(data_only_apple_corr.index)).date()]\n",
    "        ### aux_data has older entries, so only want the entries on the dates we have stock data for\n",
    "        date_list = []\n",
    "        [date_list.append(pd.to_datetime(a).date()) for a in list(data_only_apple_corr.index)]\n",
    "        old_index = list(data_only_apple_corr.index)\n",
    "        data_only_apple_corr['Date'] = date_list\n",
    "        data_only_apple_corr = data_only_apple_corr.set_index('Date')\n",
    "        data_only_apple_corr = pd.merge(data_only_apple_corr, aux_data_sub, on='Date', how='left').ffill().bfill()\n",
    "        data_only_apple_corr = data_only_apple_corr.set_index(pd.Series(old_index, name='Date'))\n",
    "\n",
    "\n",
    "    if day_of_year_flag == True:\n",
    "        day_of_year_list = []\n",
    "        for val in data_only_apple_corr.index:\n",
    "            day_of_year = pd.Period(val).day_of_year\n",
    "            day_of_year_list.append(day_of_year)\n",
    "        data_only_apple_corr['day_of_year'] = day_of_year_list\n",
    "    \n",
    "    if day_of_week_flag == True:\n",
    "        day_of_week_list = []\n",
    "        for val in data_only_apple_corr.index:\n",
    "            day_of_week = pd.Period(val).day_of_week\n",
    "            day_of_week_list.append(day_of_week)\n",
    "        data_only_apple_corr['day_of_week'] = day_of_week_list\n",
    "    \n",
    "    if volume_all_stocks_flag == True:\n",
    "        data_only_apple_corr = pd.merge(data_only_apple_corr, \n",
    "                                        data_volume[stock_list_greater_point_five_corr_apple_volume[0:n_features_selected]],\n",
    "                                       on='Date')\n",
    "    if low_all_stocks_flag == True:\n",
    "        data_only_apple_corr = pd.merge(data_only_apple_corr, \n",
    "                                        data_low[stock_list_greater_point_five_corr_apple_low[0:n_features_selected]],\n",
    "                                       on='Date')\n",
    "    \n",
    "    if high_all_stocks_flag == True:\n",
    "        data_only_apple_corr = pd.merge(data_only_apple_corr, \n",
    "                                        data_high[stock_list_greater_point_five_corr_apple_high[0:n_features_selected]],\n",
    "                                       on='Date')\n",
    "    if close_all_stocks_flag == True:\n",
    "        data_only_apple_corr = pd.merge(data_only_apple_corr,\n",
    "                                       data_close[stock_list_greater_point_five_corr_apple_close[0:n_features_selected]],\n",
    "                                       on='Date')\n",
    "\n",
    "    column_indices = {name: i for i, name in enumerate(data_only_apple_corr.columns)}\n",
    "    n = len(data_only_apple_corr)\n",
    "    train_df = data_only_apple_corr[0:int(n*0.7)]\n",
    "    val_df = data_only_apple_corr[int(n*0.7):int(n*0.9)]\n",
    "    test_df = data_only_apple_corr[int(n*0.9):]\n",
    "    num_features = data_only_apple_corr.shape[1]\n",
    "\n",
    "    if standardize_flag == True:\n",
    "        train_mean = train_df.mean()\n",
    "        train_std = train_df.std()\n",
    "        train_df = (train_df - train_mean) / train_std\n",
    "        val_df = (val_df - train_mean) / train_std\n",
    "        test_df = (test_df - train_mean) / train_std\n",
    "\n",
    "    @property\n",
    "    def train(self):\n",
    "      return self.make_dataset(self.train_df)\n",
    "    \n",
    "    @property\n",
    "    def val(self):\n",
    "      return self.make_dataset(self.val_df)\n",
    "    \n",
    "    @property\n",
    "    def test(self):\n",
    "      return self.make_dataset(self.test_df)\n",
    "    \n",
    "    @property\n",
    "    def example(self):\n",
    "      \"\"\"Get and cache an example batch of `inputs, labels` for plotting.\"\"\"\n",
    "      result = getattr(self, '_example', None)\n",
    "      if result is None:\n",
    "        # No example batch was found, so get one from the `.train` dataset\n",
    "        result = next(iter(self.train))\n",
    "        # And cache it for next time\n",
    "        self._example = result\n",
    "      return result\n",
    "    \n",
    "    WindowGenerator.train = train\n",
    "    WindowGenerator.val = val\n",
    "    WindowGenerator.test = test\n",
    "    WindowGenerator.example = example\n",
    "\n",
    "    baseline = Baseline(label_index=column_indices['AAPL_Open'])\n",
    "    \n",
    "    baseline.compile(loss=tf.keras.losses.MeanSquaredError(),\n",
    "                     metrics=[tf.keras.metrics.MeanAbsoluteError(),\n",
    "                             tf.keras.metrics.MeanAbsolutePercentageError()])\n",
    "    \n",
    "    val_performance = {}\n",
    "    performance = {}\n",
    "    val_performance['Baseline'] = baseline.evaluate(single_step_window.val, return_dict=True)\n",
    "    performance['Baseline'] = baseline.evaluate(single_step_window.test, verbose=0, return_dict=True)\n",
    "\n",
    "    \n",
    "    wide_window = WindowGenerator(\n",
    "        input_width=10, label_width=10, shift=1,\n",
    "        label_columns=['AAPL_Open'])\n",
    "\n",
    "    lstm_model = tf.keras.models.Sequential([\n",
    "        # Shape [batch, time, features] => [batch, time, lstm_units]\n",
    "        tf.keras.layers.LSTM(lstm_units, return_sequences=True),\n",
    "        # Shape => [batch, time, features]\n",
    "        tf.keras.layers.Dense(units=1),\n",
    "    ])\n",
    "\n",
    "    history = compile_and_fit(lstm_model, wide_window)\n",
    "\n",
    "    IPython.display.clear_output()\n",
    "    val_performance['LSTM'] = lstm_model.evaluate(wide_window.val, return_dict=True)\n",
    "    performance['LSTM'] = lstm_model.evaluate(wide_window.test, verbose=0, return_dict=True)\n",
    "\n",
    "    for key in performance:\n",
    "        for key2 in performance[key]:\n",
    "            performance[key][key2] = np.round(performance[key][key2], 5)\n",
    "\n",
    "    return [n_features_selected, differencing_flag, standardize_flag, day_of_year_flag, day_of_week_flag,\n",
    "            volume_all_stocks_flag, low_all_stocks_flag, high_all_stocks_flag, close_all_stocks_flag, \n",
    "            aux_data_flag, lstm_units, lag_len, performance]"
   ]
  },
  {
   "cell_type": "code",
   "execution_count": 51,
   "id": "00c17818-9116-4d1d-83ea-c7bd8ae8b0cf",
   "metadata": {
    "execution": {
     "iopub.execute_input": "2024-03-31T14:19:56.486278Z",
     "iopub.status.busy": "2024-03-31T14:19:56.486278Z",
     "iopub.status.idle": "2024-03-31T14:20:03.243791Z",
     "shell.execute_reply": "2024-03-31T14:20:03.242780Z",
     "shell.execute_reply.started": "2024-03-31T14:19:56.486278Z"
    }
   },
   "outputs": [
    {
     "name": "stdout",
     "output_type": "stream",
     "text": [
      "8/8 [==============================] - 0s 5ms/step - loss: 1.6224 - mean_absolute_error: 1.0304 - mean_absolute_percentage_error: 3231.2095\n"
     ]
    }
   ],
   "source": [
    "output = lstm_apple_modeling_v4(data_open, \n",
    "        stock_list_greater_point_five_corr_apple_open = stock_list_greater_point_five_corr_apple_open,\n",
    "        stock_list_greater_point_five_corr_apple_volume = stock_list_greater_point_five_corr_apple_volume,\n",
    "        stock_list_greater_point_five_corr_apple_low = stock_list_greater_point_five_corr_apple_low,\n",
    "        stock_list_greater_point_five_corr_apple_high = stock_list_greater_point_five_corr_apple_high,    \n",
    "        stock_list_greater_point_five_corr_apple_close = stock_list_greater_point_five_corr_apple_close,\n",
    "                                            aux_data = aux_data, n_features_selected = 761,\n",
    "                                            differencing_flag = True, standardize_flag = True,\n",
    "                                            aux_data_flag = True,\n",
    "                                            day_of_year_flag = True, day_of_week_flag = True,\n",
    "                                            volume_all_stocks_flag = True, low_all_stocks_flag = True, \n",
    "                                            high_all_stocks_flag = True, close_all_stocks_flag=True, \n",
    "                                            lstm_units=200, lag_len=10)"
   ]
  },
  {
   "cell_type": "code",
   "execution_count": 52,
   "id": "4e25d672-4db5-45ea-8da0-2ef1ce929667",
   "metadata": {
    "execution": {
     "iopub.execute_input": "2024-03-31T14:20:03.244790Z",
     "iopub.status.busy": "2024-03-31T14:20:03.243791Z",
     "iopub.status.idle": "2024-03-31T14:20:03.259791Z",
     "shell.execute_reply": "2024-03-31T14:20:03.258791Z",
     "shell.execute_reply.started": "2024-03-31T14:20:03.244790Z"
    }
   },
   "outputs": [
    {
     "name": "stdout",
     "output_type": "stream",
     "text": [
      "Score is as follows: \n",
      "BASELINE {'loss': 2.08564, 'mean_absolute_error': 1.0051, 'mean_absolute_percentage_error': 896.51276} \n",
      "LSTM     {'loss': 1.65308, 'mean_absolute_error': 1.04533, 'mean_absolute_percentage_error': 649.24091} \n",
      "\n",
      "Number of features selected: 761 \n",
      " \n",
      "Differencing flag: True \n",
      "\n",
      "Standardization flag: True \n",
      "\n",
      "Auxilliary data flag: True \n",
      "\n",
      "Day of the year flag: True \n",
      "\n",
      "Day of the week flag: True \n",
      "\n",
      "Volume of stocks flag: True \n",
      "\n",
      "Low of stocks flag: True \n",
      "\n",
      "High of stocks flag: True \n",
      "\n",
      "Close of all stocks flag: True \n",
      "\n",
      "LSTM units: 200 \n",
      "\n",
      "Number of lags: 10\n"
     ]
    }
   ],
   "source": [
    "scores_baseline = output[12]['Baseline']\n",
    "scores_lstm = output[12]['LSTM']\n",
    "n_feat = output[0]\n",
    "diff_f = output[1]\n",
    "stand_f = output[2]\n",
    "aux_f = output[9]\n",
    "year_f = output[3]\n",
    "week_f = output[4]\n",
    "vol_f = output[5]\n",
    "low_f = output[6]\n",
    "high_f = output[7]\n",
    "close_f = output[8]\n",
    "lstm_units = output[10]\n",
    "lag_len = output[11]\n",
    "\n",
    "print(f'''Score is as follows: \\nBASELINE {scores_baseline} \\nLSTM     {scores_lstm} \\n\n",
    "Number of features selected: {n_feat} \\n \n",
    "Differencing flag: {diff_f} \\n\n",
    "Standardization flag: {stand_f} \\n\n",
    "Auxilliary data flag: {aux_f} \\n\n",
    "Day of the year flag: {year_f} \\n\n",
    "Day of the week flag: {week_f} \\n\n",
    "Volume of stocks flag: {vol_f} \\n\n",
    "Low of stocks flag: {low_f} \\n\n",
    "High of stocks flag: {high_f} \\n\n",
    "Close of all stocks flag: {close_f} \\n\n",
    "LSTM units: {lstm_units} \\n\n",
    "Number of lags: {lag_len}''')"
   ]
  },
  {
   "cell_type": "code",
   "execution_count": null,
   "id": "a5083a35-9279-41e4-8c5a-82a98b4bb6ae",
   "metadata": {},
   "outputs": [],
   "source": []
  },
  {
   "cell_type": "code",
   "execution_count": null,
   "id": "afd3c208-dbda-4ec6-86a9-a6321a17ba7e",
   "metadata": {},
   "outputs": [],
   "source": []
  },
  {
   "cell_type": "code",
   "execution_count": 53,
   "id": "347a83ad-1138-486f-9940-928059bafe38",
   "metadata": {
    "execution": {
     "iopub.execute_input": "2024-03-31T14:20:03.260791Z",
     "iopub.status.busy": "2024-03-31T14:20:03.260791Z",
     "iopub.status.idle": "2024-03-31T14:20:03.274793Z",
     "shell.execute_reply": "2024-03-31T14:20:03.273792Z",
     "shell.execute_reply.started": "2024-03-31T14:20:03.260791Z"
    },
    "scrolled": true
   },
   "outputs": [],
   "source": [
    "# if input('Are you sure you want to run this long function?') == 'y':\n",
    "    \n",
    "\n",
    "#     grid_search_df = pd.DataFrame(columns=['n_features_selected',\n",
    "#                        'differencing_flag', 'standardize_flag', 'day_of_year_flag', 'day_of_week_flag',\n",
    "#                        'volume_all_stocks_flag', 'low_all_stocks_flag', 'high_all_stocks_flag', 'close_all_stocks_flag',\n",
    "#                                'aux_data','lstm_units','lag_length',\n",
    "#                         'baseline--loss','LSTM--loss', 'baseline--MAE','LSTM--MAE','baseline--MAPE','LSTM--MAPE'])\n",
    "    \n",
    "#     # flag_range_diff = [False, True]\n",
    "#     # flag_range_stand = [False, True]\n",
    "#     flag_range_doy = [False, True]\n",
    "#     flag_range_dow = [False, True]\n",
    "#     flag_range_vol = [False, True]\n",
    "#     flag_range_low = [False, True]\n",
    "#     flag_range_high = [False, True]\n",
    "#     flag_range_close = [False, True]\n",
    "#     flag_range_aux = [False, True]\n",
    "    \n",
    "#     n_features_selected_range = 761\n",
    "#     lstm_units_range = [16,32,64,128,200]\n",
    "#     lag_length_range = [10,20,30]\n",
    "\n",
    "\n",
    "\n",
    "    \n",
    "    \n",
    "#     total_number_search = 2**7*5*3\n",
    "    \n",
    "#     i=0\n",
    "#     for flag_range_doy_val in flag_range_doy:\n",
    "#         for flag_range_dow_val in flag_range_dow:\n",
    "#             for flag_range_vol_val in flag_range_vol:\n",
    "#                 for flag_range_low_val in flag_range_low:\n",
    "#                     for flag_range_high_val in flag_range_high:\n",
    "#                         for flag_range_close_val in flag_range_close:\n",
    "#                             for flag_range_aux_val in flag_range_aux:\n",
    "#                                 for lstm_units_range_val in lstm_units_range:\n",
    "#                                     for lag_length_range_val in lag_length_range:\n",
    "#                                         output = lstm_apple_modeling_v4(data_open = data_open, \n",
    "#                                                 stock_list_greater_point_five_corr_apple_open = stock_list_greater_point_five_corr_apple_open,\n",
    "#                                                 stock_list_greater_point_five_corr_apple_volume = stock_list_greater_point_five_corr_apple_volume,\n",
    "#                                                 stock_list_greater_point_five_corr_apple_low = stock_list_greater_point_five_corr_apple_low,\n",
    "#                                                 stock_list_greater_point_five_corr_apple_high = stock_list_greater_point_five_corr_apple_high,    \n",
    "#                                                 stock_list_greater_point_five_corr_apple_close = stock_list_greater_point_five_corr_apple_close,\n",
    "#                                                 aux_data = aux_data, n_features_selected = n_features_selected_range,\n",
    "#                                                 differencing_flag = True, standardize_flag = True,\n",
    "#                                                 aux_data_flag = flag_range_aux_val,\n",
    "#                                                 day_of_year_flag = flag_range_doy_val, day_of_week_flag = flag_range_dow_val,\n",
    "#                                                 volume_all_stocks_flag = flag_range_vol_val, low_all_stocks_flag = flag_range_low_val, \n",
    "#                                                 high_all_stocks_flag = flag_range_high_val, close_all_stocks_flag=flag_range_close_val, \n",
    "#                                                 lstm_units=lstm_units_range_val, lag_len=lag_length_range_val)\n",
    "#                                         i+=1\n",
    "#                                         print('Percent complete: ' + str(np.round(i/total_number_search*100,3)))\n",
    "#                                         grid_search_df.loc[len(grid_search_df)] = [output[0], output[1],output[2],output[3],output[4],\n",
    "#                                           output[5],output[6], output[7],output[8], output[9], output[10],output[11],\n",
    "#                                           output[12]['Baseline']['loss'],\n",
    "#                                           output[12]['LSTM']['loss'],\n",
    "#                                           output[12]['Baseline']['mean_absolute_error'],\n",
    "#                                           output[12]['LSTM']['mean_absolute_error'],\n",
    "#                                           output[12]['Baseline']['mean_absolute_percentage_error'],\n",
    "#                                           output[12]['LSTM']['mean_absolute_percentage_error']]\n",
    "\n"
   ]
  },
  {
   "cell_type": "code",
   "execution_count": 54,
   "id": "1a013192-6801-4da5-8e44-26a90b75b879",
   "metadata": {
    "execution": {
     "iopub.execute_input": "2024-03-31T14:20:03.276793Z",
     "iopub.status.busy": "2024-03-31T14:20:03.275793Z",
     "iopub.status.idle": "2024-03-31T14:20:03.290839Z",
     "shell.execute_reply": "2024-03-31T14:20:03.289836Z",
     "shell.execute_reply.started": "2024-03-31T14:20:03.276793Z"
    }
   },
   "outputs": [],
   "source": [
    "# grid_search_df.shape"
   ]
  },
  {
   "cell_type": "code",
   "execution_count": 55,
   "id": "c7dd34b8-0bfd-48fb-b0f5-cca7198675f1",
   "metadata": {
    "execution": {
     "iopub.execute_input": "2024-03-31T14:20:03.291837Z",
     "iopub.status.busy": "2024-03-31T14:20:03.291837Z",
     "iopub.status.idle": "2024-03-31T14:20:03.306296Z",
     "shell.execute_reply": "2024-03-31T14:20:03.305295Z",
     "shell.execute_reply.started": "2024-03-31T14:20:03.291837Z"
    }
   },
   "outputs": [],
   "source": [
    "# grid_search_df.to_csv('LSTM_grid_search_results_v2.csv')"
   ]
  },
  {
   "cell_type": "code",
   "execution_count": null,
   "id": "4816645f-ad24-48fe-b728-c411f42df4a7",
   "metadata": {},
   "outputs": [],
   "source": []
  },
  {
   "cell_type": "markdown",
   "id": "eb461055-4484-44b7-b328-88547cfeddce",
   "metadata": {},
   "source": [
    "# Plot predictions with best performing model based upon grid search results"
   ]
  },
  {
   "cell_type": "code",
   "execution_count": 138,
   "id": "4e2712d9-a233-479a-a2da-248bfda811e3",
   "metadata": {
    "execution": {
     "iopub.execute_input": "2024-03-31T15:34:32.609694Z",
     "iopub.status.busy": "2024-03-31T15:34:32.608697Z",
     "iopub.status.idle": "2024-03-31T15:34:38.265589Z",
     "shell.execute_reply": "2024-03-31T15:34:38.265589Z",
     "shell.execute_reply.started": "2024-03-31T15:34:32.609694Z"
    }
   },
   "outputs": [
    {
     "name": "stdout",
     "output_type": "stream",
     "text": [
      "8/8 [==============================] - 0s 7ms/step - loss: 1.9078 - mean_absolute_error: 1.1091 - mean_absolute_percentage_error: 1989.3237\n"
     ]
    }
   ],
   "source": [
    "output = lstm_apple_modeling_v4(data_open, \n",
    "        stock_list_greater_point_five_corr_apple_open = stock_list_greater_point_five_corr_apple_open,\n",
    "        stock_list_greater_point_five_corr_apple_volume = stock_list_greater_point_five_corr_apple_volume,\n",
    "        stock_list_greater_point_five_corr_apple_low = stock_list_greater_point_five_corr_apple_low,\n",
    "        stock_list_greater_point_five_corr_apple_high = stock_list_greater_point_five_corr_apple_high,    \n",
    "        stock_list_greater_point_five_corr_apple_close = stock_list_greater_point_five_corr_apple_close,\n",
    "                                            aux_data = aux_data, n_features_selected = 761,\n",
    "                                            differencing_flag = True, standardize_flag = True,\n",
    "                                            aux_data_flag = True,\n",
    "                                            day_of_year_flag = True, day_of_week_flag = True,\n",
    "                                            volume_all_stocks_flag = True, low_all_stocks_flag = True, \n",
    "                                            high_all_stocks_flag = True, close_all_stocks_flag=True, \n",
    "                                            lstm_units=128, lag_len=10)"
   ]
  },
  {
   "cell_type": "code",
   "execution_count": 139,
   "id": "4b35ca50-d12d-4754-ba42-c7f3c93611f3",
   "metadata": {
    "execution": {
     "iopub.execute_input": "2024-03-31T15:34:38.267597Z",
     "iopub.status.busy": "2024-03-31T15:34:38.267597Z",
     "iopub.status.idle": "2024-03-31T15:34:38.376071Z",
     "shell.execute_reply": "2024-03-31T15:34:38.375403Z",
     "shell.execute_reply.started": "2024-03-31T15:34:38.267597Z"
    }
   },
   "outputs": [
    {
     "name": "stdout",
     "output_type": "stream",
     "text": [
      "4/4 [==============================] - 0s 4ms/step - loss: 0.9012 - mean_absolute_error: 0.7085 - mean_absolute_percentage_error: 262.1199\n"
     ]
    }
   ],
   "source": [
    "test_performance = lstm_model.evaluate(wide_window.test, return_dict = True)"
   ]
  },
  {
   "cell_type": "code",
   "execution_count": 140,
   "id": "cac5844a-640b-4637-8066-64c8f94f2725",
   "metadata": {
    "execution": {
     "iopub.execute_input": "2024-03-31T15:34:38.377077Z",
     "iopub.status.busy": "2024-03-31T15:34:38.377077Z",
     "iopub.status.idle": "2024-03-31T15:34:38.392077Z",
     "shell.execute_reply": "2024-03-31T15:34:38.391149Z",
     "shell.execute_reply.started": "2024-03-31T15:34:38.377077Z"
    }
   },
   "outputs": [],
   "source": [
    "labels = test_df['AAPL_Open']\n",
    "labels.index = pd.to_datetime(labels.index, utc=True)\n"
   ]
  },
  {
   "cell_type": "code",
   "execution_count": 141,
   "id": "c855b5a8-ec97-4f07-8eef-2a8ecf69dc4f",
   "metadata": {
    "execution": {
     "iopub.execute_input": "2024-03-31T15:34:38.393076Z",
     "iopub.status.busy": "2024-03-31T15:34:38.393076Z",
     "iopub.status.idle": "2024-03-31T15:34:38.474186Z",
     "shell.execute_reply": "2024-03-31T15:34:38.470219Z",
     "shell.execute_reply.started": "2024-03-31T15:34:38.393076Z"
    }
   },
   "outputs": [],
   "source": [
    "input_test_list = []\n",
    "label_test_list = []\n",
    "\n",
    "for input_test, label_test in wide_window.test:\n",
    "    input_test_list.append(input_test)\n",
    "    label_test_list.append(label_test)"
   ]
  },
  {
   "cell_type": "code",
   "execution_count": 142,
   "id": "8a78627f-0b5f-4293-ba46-0a21fb2169bc",
   "metadata": {
    "execution": {
     "iopub.execute_input": "2024-03-31T15:34:38.477158Z",
     "iopub.status.busy": "2024-03-31T15:34:38.477158Z",
     "iopub.status.idle": "2024-03-31T15:34:43.121637Z",
     "shell.execute_reply": "2024-03-31T15:34:43.120664Z",
     "shell.execute_reply.started": "2024-03-31T15:34:38.477158Z"
    },
    "scrolled": true
   },
   "outputs": [
    {
     "name": "stdout",
     "output_type": "stream",
     "text": [
      "1/1 [==============================] - 0s 16ms/step\n",
      "1/1 [==============================] - 0s 15ms/step\n",
      "1/1 [==============================] - 0s 15ms/step\n",
      "1/1 [==============================] - 0s 14ms/step\n",
      "1/1 [==============================] - 0s 14ms/step\n",
      "1/1 [==============================] - 0s 15ms/step\n",
      "1/1 [==============================] - 0s 14ms/step\n",
      "1/1 [==============================] - 0s 14ms/step\n",
      "1/1 [==============================] - 0s 13ms/step\n",
      "1/1 [==============================] - 0s 14ms/step\n",
      "1/1 [==============================] - 0s 14ms/step\n",
      "1/1 [==============================] - 0s 15ms/step\n",
      "1/1 [==============================] - 0s 14ms/step\n",
      "1/1 [==============================] - 0s 14ms/step\n",
      "1/1 [==============================] - 0s 14ms/step\n",
      "1/1 [==============================] - 0s 15ms/step\n",
      "1/1 [==============================] - 0s 15ms/step\n",
      "1/1 [==============================] - 0s 15ms/step\n",
      "1/1 [==============================] - 0s 13ms/step\n",
      "1/1 [==============================] - 0s 14ms/step\n",
      "1/1 [==============================] - 0s 15ms/step\n",
      "1/1 [==============================] - 0s 14ms/step\n",
      "1/1 [==============================] - 0s 14ms/step\n",
      "1/1 [==============================] - 0s 13ms/step\n",
      "1/1 [==============================] - 0s 13ms/step\n",
      "1/1 [==============================] - 0s 14ms/step\n",
      "1/1 [==============================] - 0s 14ms/step\n",
      "1/1 [==============================] - 0s 14ms/step\n",
      "1/1 [==============================] - 0s 13ms/step\n",
      "1/1 [==============================] - 0s 14ms/step\n",
      "1/1 [==============================] - 0s 14ms/step\n",
      "1/1 [==============================] - 0s 14ms/step\n",
      "1/1 [==============================] - 0s 13ms/step\n",
      "1/1 [==============================] - 0s 14ms/step\n",
      "1/1 [==============================] - 0s 14ms/step\n",
      "1/1 [==============================] - 0s 14ms/step\n",
      "1/1 [==============================] - 0s 14ms/step\n",
      "1/1 [==============================] - 0s 15ms/step\n",
      "1/1 [==============================] - 0s 14ms/step\n",
      "1/1 [==============================] - 0s 15ms/step\n",
      "1/1 [==============================] - 0s 13ms/step\n",
      "1/1 [==============================] - 0s 15ms/step\n",
      "1/1 [==============================] - 0s 13ms/step\n",
      "1/1 [==============================] - 0s 15ms/step\n",
      "1/1 [==============================] - 0s 14ms/step\n",
      "1/1 [==============================] - 0s 13ms/step\n",
      "1/1 [==============================] - 0s 14ms/step\n",
      "1/1 [==============================] - 0s 14ms/step\n",
      "1/1 [==============================] - 0s 14ms/step\n",
      "1/1 [==============================] - 0s 15ms/step\n",
      "1/1 [==============================] - 0s 15ms/step\n",
      "1/1 [==============================] - 0s 14ms/step\n",
      "1/1 [==============================] - 0s 15ms/step\n",
      "1/1 [==============================] - 0s 18ms/step\n",
      "1/1 [==============================] - 0s 15ms/step\n",
      "1/1 [==============================] - 0s 16ms/step\n",
      "1/1 [==============================] - 0s 15ms/step\n",
      "1/1 [==============================] - 0s 16ms/step\n",
      "1/1 [==============================] - 0s 15ms/step\n",
      "1/1 [==============================] - 0s 14ms/step\n",
      "1/1 [==============================] - 0s 15ms/step\n",
      "1/1 [==============================] - 0s 15ms/step\n",
      "1/1 [==============================] - 0s 14ms/step\n",
      "1/1 [==============================] - 0s 18ms/step\n",
      "1/1 [==============================] - 0s 17ms/step\n",
      "1/1 [==============================] - 0s 16ms/step\n",
      "1/1 [==============================] - 0s 16ms/step\n",
      "1/1 [==============================] - 0s 16ms/step\n",
      "1/1 [==============================] - 0s 15ms/step\n",
      "1/1 [==============================] - 0s 15ms/step\n",
      "1/1 [==============================] - 0s 16ms/step\n",
      "1/1 [==============================] - 0s 16ms/step\n",
      "1/1 [==============================] - 0s 15ms/step\n",
      "1/1 [==============================] - 0s 15ms/step\n",
      "1/1 [==============================] - 0s 15ms/step\n",
      "1/1 [==============================] - 0s 16ms/step\n",
      "1/1 [==============================] - 0s 15ms/step\n",
      "1/1 [==============================] - 0s 17ms/step\n",
      "1/1 [==============================] - 0s 15ms/step\n",
      "1/1 [==============================] - 0s 15ms/step\n",
      "1/1 [==============================] - 0s 16ms/step\n",
      "1/1 [==============================] - 0s 16ms/step\n",
      "1/1 [==============================] - 0s 15ms/step\n",
      "1/1 [==============================] - 0s 17ms/step\n",
      "1/1 [==============================] - 0s 16ms/step\n",
      "1/1 [==============================] - 0s 16ms/step\n",
      "1/1 [==============================] - 0s 16ms/step\n",
      "1/1 [==============================] - 0s 16ms/step\n",
      "1/1 [==============================] - 0s 15ms/step\n",
      "1/1 [==============================] - 0s 16ms/step\n",
      "1/1 [==============================] - 0s 16ms/step\n",
      "1/1 [==============================] - 0s 17ms/step\n",
      "1/1 [==============================] - 0s 17ms/step\n",
      "1/1 [==============================] - 0s 17ms/step\n",
      "1/1 [==============================] - 0s 17ms/step\n",
      "1/1 [==============================] - 0s 17ms/step\n",
      "1/1 [==============================] - 0s 16ms/step\n",
      "1/1 [==============================] - 0s 17ms/step\n",
      "1/1 [==============================] - 0s 16ms/step\n",
      "1/1 [==============================] - 0s 17ms/step\n",
      "1/1 [==============================] - 0s 16ms/step\n",
      "1/1 [==============================] - 0s 17ms/step\n",
      "1/1 [==============================] - 0s 17ms/step\n",
      "1/1 [==============================] - 0s 17ms/step\n",
      "1/1 [==============================] - 0s 18ms/step\n",
      "1/1 [==============================] - 0s 16ms/step\n",
      "1/1 [==============================] - 0s 17ms/step\n",
      "1/1 [==============================] - 0s 17ms/step\n",
      "1/1 [==============================] - 0s 16ms/step\n",
      "1/1 [==============================] - 0s 16ms/step\n",
      "1/1 [==============================] - 0s 17ms/step\n",
      "1/1 [==============================] - 0s 17ms/step\n",
      "1/1 [==============================] - 0s 18ms/step\n",
      "1/1 [==============================] - 0s 17ms/step\n",
      "1/1 [==============================] - 0s 19ms/step\n",
      "1/1 [==============================] - 0s 18ms/step\n"
     ]
    }
   ],
   "source": [
    "pred_output_list = []\n",
    "for batch in input_test_list:\n",
    "    for row in batch:\n",
    "        row2 = np.asarray(row).reshape(1,10,3047)\n",
    "        pred_output_list.append(lstm_model.predict(row2))"
   ]
  },
  {
   "cell_type": "code",
   "execution_count": 143,
   "id": "af37c8ae-3249-40e0-882c-59f943861a00",
   "metadata": {
    "execution": {
     "iopub.execute_input": "2024-03-31T15:34:43.123634Z",
     "iopub.status.busy": "2024-03-31T15:34:43.122635Z",
     "iopub.status.idle": "2024-03-31T15:34:43.137606Z",
     "shell.execute_reply": "2024-03-31T15:34:43.136617Z",
     "shell.execute_reply.started": "2024-03-31T15:34:43.123634Z"
    }
   },
   "outputs": [],
   "source": [
    "pred_output_first_val_list = []\n",
    "for a in pred_output_list:\n",
    "    pred_output_first_val_list.append(a[0][0][0])\n",
    "\n",
    "pred_series = pd.Series(pred_output_first_val_list, index = labels[10:].index)"
   ]
  },
  {
   "cell_type": "code",
   "execution_count": 144,
   "id": "5e1ad8d2-bf04-4c95-a337-2834cfd6f37b",
   "metadata": {
    "execution": {
     "iopub.execute_input": "2024-03-31T15:34:43.138606Z",
     "iopub.status.busy": "2024-03-31T15:34:43.137606Z",
     "iopub.status.idle": "2024-03-31T15:34:43.327606Z",
     "shell.execute_reply": "2024-03-31T15:34:43.326643Z",
     "shell.execute_reply.started": "2024-03-31T15:34:43.138606Z"
    }
   },
   "outputs": [
    {
     "data": {
      "image/png": "[encoded data removed]",
      "text/plain": [
       "<Figure size 1000x500 with 1 Axes>"
      ]
     },
     "metadata": {},
     "output_type": "display_data"
    }
   ],
   "source": [
    "fig = plt.figure(figsize=(10,5))\n",
    "ax = fig.add_subplot(111)\n",
    "\n",
    "mae = 'MAE: ' + str(np.round(np.mean(np.abs(pred_series - labels[10:])),3))\n",
    "mse = 'MSE: ' + str(np.round(np.mean((pred_series - labels[10:])**2),3))\n",
    "\n",
    "ax.text(labels.index[0], 2, mae + '\\n' + mse, bbox={'facecolor':'green', 'alpha':0.5})\n",
    "ax.plot(labels, label='test data')\n",
    "ax.plot(pred_series, label='prediction')\n",
    "ax.legend()\n",
    "ax.set_title('Test data vs prediction')\n",
    "ax.set_ylabel('Stock share price difference')\n",
    "\n",
    "plt.show()"
   ]
  },
  {
   "cell_type": "code",
   "execution_count": null,
   "id": "e6e70140-76ad-4a2c-99d2-534e3e9832ad",
   "metadata": {},
   "outputs": [],
   "source": []
  },
  {
   "cell_type": "markdown",
   "id": "ba7936b6-67f6-4c60-bf46-0c15d5a356da",
   "metadata": {},
   "source": [
    "# Plot the residuals and do the residual analysis"
   ]
  },
  {
   "cell_type": "code",
   "execution_count": 145,
   "id": "894131f8-c473-472d-87d0-2758ffa9ef25",
   "metadata": {
    "execution": {
     "iopub.execute_input": "2024-03-31T15:34:43.329610Z",
     "iopub.status.busy": "2024-03-31T15:34:43.328624Z",
     "iopub.status.idle": "2024-03-31T15:34:43.343606Z",
     "shell.execute_reply": "2024-03-31T15:34:43.342612Z",
     "shell.execute_reply.started": "2024-03-31T15:34:43.329610Z"
    }
   },
   "outputs": [],
   "source": [
    "resid = labels[10:] - pred_series"
   ]
  },
  {
   "cell_type": "code",
   "execution_count": 146,
   "id": "0dc27437-d288-4306-9364-a0f0ace3de9d",
   "metadata": {
    "execution": {
     "iopub.execute_input": "2024-03-31T15:34:43.345607Z",
     "iopub.status.busy": "2024-03-31T15:34:43.345607Z",
     "iopub.status.idle": "2024-03-31T15:34:43.551635Z",
     "shell.execute_reply": "2024-03-31T15:34:43.550642Z",
     "shell.execute_reply.started": "2024-03-31T15:34:43.345607Z"
    }
   },
   "outputs": [
    {
     "data": {
      "text/plain": [
       "<Figure size 1000x1000 with 0 Axes>"
      ]
     },
     "metadata": {},
     "output_type": "display_data"
    },
    {
     "data": {
      "image/png": "[encoded data removed]",
      "text/plain": [
       "<Figure size 640x480 with 2 Axes>"
      ]
     },
     "metadata": {},
     "output_type": "display_data"
    }
   ],
   "source": [
    "fig = plt.figure(figsize=(10,10))\n",
    "f, (ax1,ax2) = plt.subplots(1,2)\n",
    "ax1.hist(resid)\n",
    "ax2.scatter(pred_series,labels[10:])\n",
    "ax2.set_xlabel('predicted')\n",
    "ax2.set_ylabel('actual', labelpad=0)\n",
    "plt.suptitle('Residual plots')\n",
    "plt.subplots_adjust(wspace=0.3)\n",
    "plt.show()"
   ]
  },
  {
   "cell_type": "markdown",
   "id": "549646d0-1168-46bd-9c20-df8469c7d7d6",
   "metadata": {},
   "source": [
    "The histogram of the residuals appears normally distributed, however the scatterplot shows a bias towards a lower prediction of the stock difference value."
   ]
  },
  {
   "cell_type": "code",
   "execution_count": null,
   "id": "f5281634-dca4-4c7d-b741-b9002c32e013",
   "metadata": {},
   "outputs": [],
   "source": []
  },
  {
   "cell_type": "code",
   "execution_count": null,
   "id": "1498754c-d6a3-4c48-ba90-38049a6cd2b9",
   "metadata": {},
   "outputs": [],
   "source": []
  },
  {
   "cell_type": "code",
   "execution_count": null,
   "id": "ca5b058a-b96b-43c5-8cbf-0c90d7ee6962",
   "metadata": {},
   "outputs": [],
   "source": []
  },
  {
   "cell_type": "markdown",
   "id": "c5bc4f7e-1ba0-4365-afd8-b1cda6c3061f",
   "metadata": {},
   "source": [
    "# Junkyard"
   ]
  },
  {
   "cell_type": "code",
   "execution_count": null,
   "id": "04854f75-ab93-47eb-aa2d-afc89faf3754",
   "metadata": {},
   "outputs": [],
   "source": []
  },
  {
   "cell_type": "code",
   "execution_count": null,
   "id": "df84e43f-0d2c-4f56-a6ee-b725d5d91c55",
   "metadata": {},
   "outputs": [],
   "source": []
  }
 ],
 "metadata": {
  "kernelspec": {
   "display_name": "Python 3 (ipykernel)",
   "language": "python",
   "name": "python3"
  },
  "language_info": {
   "codemirror_mode": {
    "name": "ipython",
    "version": 3
   },
   "file_extension": ".py",
   "mimetype": "text/x-python",
   "name": "python",
   "nbconvert_exporter": "python",
   "pygments_lexer": "ipython3",
   "version": "3.10.13"
  }
 },
 "nbformat": 4,
 "nbformat_minor": 5
}
