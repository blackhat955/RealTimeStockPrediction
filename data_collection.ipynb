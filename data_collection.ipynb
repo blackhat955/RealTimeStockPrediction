{
 "cells": [
  {
   "cell_type": "code",
   "execution_count": 103,
   "id": "a60ad495-a218-4db3-a0c6-f5e78b795b57",
   "metadata": {
    "execution": {
     "iopub.execute_input": "2024-03-06T18:16:47.980710Z",
     "iopub.status.busy": "2024-03-06T18:16:47.979711Z",
     "iopub.status.idle": "2024-03-06T18:16:47.984752Z",
     "shell.execute_reply": "2024-03-06T18:16:47.983747Z",
     "shell.execute_reply.started": "2024-03-06T18:16:47.980710Z"
    }
   },
   "outputs": [],
   "source": [
    "import numpy as np\n",
    "import pandas as pd\n",
    "import yfinance as yfi\n",
    "import datetime\n",
    "import matplotlib.pyplot as plt\n",
    "import winsound\n",
    "import pickle\n",
    "import glob"
   ]
  },
  {
   "cell_type": "code",
   "execution_count": 130,
   "id": "84a1e6e8-154d-44bd-ad56-1c9cbb19def6",
   "metadata": {
    "execution": {
     "iopub.execute_input": "2024-03-06T18:18:41.669220Z",
     "iopub.status.busy": "2024-03-06T18:18:41.669220Z",
     "iopub.status.idle": "2024-03-06T18:18:41.690010Z",
     "shell.execute_reply": "2024-03-06T18:18:41.690010Z",
     "shell.execute_reply.started": "2024-03-06T18:18:41.669220Z"
    }
   },
   "outputs": [],
   "source": [
    "stock_info = pd.read_csv('nasdaq_all_stocks_info.csv')"
   ]
  },
  {
   "cell_type": "code",
   "execution_count": 131,
   "id": "54b90300-9533-4640-ae92-ee985d534bae",
   "metadata": {
    "execution": {
     "iopub.execute_input": "2024-03-06T18:18:41.830365Z",
     "iopub.status.busy": "2024-03-06T18:18:41.829366Z",
     "iopub.status.idle": "2024-03-06T18:18:41.844925Z",
     "shell.execute_reply": "2024-03-06T18:18:41.843918Z",
     "shell.execute_reply.started": "2024-03-06T18:18:41.830365Z"
    }
   },
   "outputs": [
    {
     "data": {
      "text/html": [
       "<div>\n",
       "<style scoped>\n",
       "    .dataframe tbody tr th:only-of-type {\n",
       "        vertical-align: middle;\n",
       "    }\n",
       "\n",
       "    .dataframe tbody tr th {\n",
       "        vertical-align: top;\n",
       "    }\n",
       "\n",
       "    .dataframe thead th {\n",
       "        text-align: right;\n",
       "    }\n",
       "</style>\n",
       "<table border=\"1\" class=\"dataframe\">\n",
       "  <thead>\n",
       "    <tr style=\"text-align: right;\">\n",
       "      <th></th>\n",
       "      <th>Symbol</th>\n",
       "      <th>Name</th>\n",
       "      <th>Last Sale</th>\n",
       "      <th>Net Change</th>\n",
       "      <th>% Change</th>\n",
       "      <th>Market Cap</th>\n",
       "      <th>Country</th>\n",
       "      <th>IPO Year</th>\n",
       "      <th>Volume</th>\n",
       "      <th>Sector</th>\n",
       "      <th>Industry</th>\n",
       "    </tr>\n",
       "  </thead>\n",
       "  <tbody>\n",
       "    <tr>\n",
       "      <th>0</th>\n",
       "      <td>A</td>\n",
       "      <td>Agilent Technologies Inc. Common Stock</td>\n",
       "      <td>$146.83</td>\n",
       "      <td>2.4800</td>\n",
       "      <td>1.718%</td>\n",
       "      <td>4.302702e+10</td>\n",
       "      <td>United States</td>\n",
       "      <td>1999.0</td>\n",
       "      <td>837421</td>\n",
       "      <td>Industrials</td>\n",
       "      <td>Biotechnology: Laboratory Analytical Instruments</td>\n",
       "    </tr>\n",
       "    <tr>\n",
       "      <th>1</th>\n",
       "      <td>AA</td>\n",
       "      <td>Alcoa Corporation Common Stock</td>\n",
       "      <td>$28.21</td>\n",
       "      <td>1.3000</td>\n",
       "      <td>4.831%</td>\n",
       "      <td>5.065359e+09</td>\n",
       "      <td>United States</td>\n",
       "      <td>2016.0</td>\n",
       "      <td>2798270</td>\n",
       "      <td>Industrials</td>\n",
       "      <td>Aluminum</td>\n",
       "    </tr>\n",
       "    <tr>\n",
       "      <th>2</th>\n",
       "      <td>AACG</td>\n",
       "      <td>ATA Creativity Global American Depositary Shares</td>\n",
       "      <td>$1.4703</td>\n",
       "      <td>0.0104</td>\n",
       "      <td>0.712%</td>\n",
       "      <td>4.649408e+07</td>\n",
       "      <td>China</td>\n",
       "      <td>2008.0</td>\n",
       "      <td>5781</td>\n",
       "      <td>Real Estate</td>\n",
       "      <td>Other Consumer Services</td>\n",
       "    </tr>\n",
       "    <tr>\n",
       "      <th>3</th>\n",
       "      <td>AACI</td>\n",
       "      <td>Armada Acquisition Corp. I Common Stock</td>\n",
       "      <td>$10.98</td>\n",
       "      <td>0.0000</td>\n",
       "      <td>0.00%</td>\n",
       "      <td>0.000000e+00</td>\n",
       "      <td>United States</td>\n",
       "      <td>2021.0</td>\n",
       "      <td>500</td>\n",
       "      <td>Finance</td>\n",
       "      <td>Blank Checks</td>\n",
       "    </tr>\n",
       "    <tr>\n",
       "      <th>4</th>\n",
       "      <td>AACIW</td>\n",
       "      <td>Armada Acquisition Corp. I Warrant</td>\n",
       "      <td>$0.026</td>\n",
       "      <td>-0.0010</td>\n",
       "      <td>-3.704%</td>\n",
       "      <td>0.000000e+00</td>\n",
       "      <td>United States</td>\n",
       "      <td>2021.0</td>\n",
       "      <td>151</td>\n",
       "      <td>Finance</td>\n",
       "      <td>Blank Checks</td>\n",
       "    </tr>\n",
       "    <tr>\n",
       "      <th>...</th>\n",
       "      <td>...</td>\n",
       "      <td>...</td>\n",
       "      <td>...</td>\n",
       "      <td>...</td>\n",
       "      <td>...</td>\n",
       "      <td>...</td>\n",
       "      <td>...</td>\n",
       "      <td>...</td>\n",
       "      <td>...</td>\n",
       "      <td>...</td>\n",
       "      <td>...</td>\n",
       "    </tr>\n",
       "    <tr>\n",
       "      <th>7244</th>\n",
       "      <td>ZVRA</td>\n",
       "      <td>Zevra Therapeutics Inc. Common Stock</td>\n",
       "      <td>$6.33</td>\n",
       "      <td>0.4200</td>\n",
       "      <td>7.107%</td>\n",
       "      <td>2.292610e+08</td>\n",
       "      <td>United States</td>\n",
       "      <td>NaN</td>\n",
       "      <td>119484</td>\n",
       "      <td>Health Care</td>\n",
       "      <td>Biotechnology: Pharmaceutical Preparations</td>\n",
       "    </tr>\n",
       "    <tr>\n",
       "      <th>7245</th>\n",
       "      <td>ZVSA</td>\n",
       "      <td>ZyVersa Therapeutics Inc. Common Stock</td>\n",
       "      <td>$0.7937</td>\n",
       "      <td>-0.0663</td>\n",
       "      <td>-7.709%</td>\n",
       "      <td>9.868050e+05</td>\n",
       "      <td>United States</td>\n",
       "      <td>2022.0</td>\n",
       "      <td>413504</td>\n",
       "      <td>Health Care</td>\n",
       "      <td>Biotechnology: Pharmaceutical Preparations</td>\n",
       "    </tr>\n",
       "    <tr>\n",
       "      <th>7246</th>\n",
       "      <td>ZWS</td>\n",
       "      <td>Zurn Elkay Water Solutions Corporation Common ...</td>\n",
       "      <td>$31.57</td>\n",
       "      <td>0.2200</td>\n",
       "      <td>0.702%</td>\n",
       "      <td>5.429918e+09</td>\n",
       "      <td>United States</td>\n",
       "      <td>2012.0</td>\n",
       "      <td>179127</td>\n",
       "      <td>Industrials</td>\n",
       "      <td>Industrial Machinery/Components</td>\n",
       "    </tr>\n",
       "    <tr>\n",
       "      <th>7247</th>\n",
       "      <td>ZYME</td>\n",
       "      <td>Zymeworks Inc. Common Stock</td>\n",
       "      <td>$12.28</td>\n",
       "      <td>0.3000</td>\n",
       "      <td>2.504%</td>\n",
       "      <td>8.596244e+08</td>\n",
       "      <td>United States</td>\n",
       "      <td>NaN</td>\n",
       "      <td>122113</td>\n",
       "      <td>Health Care</td>\n",
       "      <td>Biotechnology: Pharmaceutical Preparations</td>\n",
       "    </tr>\n",
       "    <tr>\n",
       "      <th>7248</th>\n",
       "      <td>ZYXI</td>\n",
       "      <td>Zynex Inc. Common Stock</td>\n",
       "      <td>$12.96</td>\n",
       "      <td>0.0900</td>\n",
       "      <td>0.699%</td>\n",
       "      <td>4.393930e+08</td>\n",
       "      <td>United States</td>\n",
       "      <td>NaN</td>\n",
       "      <td>47160</td>\n",
       "      <td>Health Care</td>\n",
       "      <td>Biotechnology: Electromedical &amp; Electrotherape...</td>\n",
       "    </tr>\n",
       "  </tbody>\n",
       "</table>\n",
       "<p>7249 rows × 11 columns</p>\n",
       "</div>"
      ],
      "text/plain": [
       "     Symbol                                               Name Last Sale  \\\n",
       "0         A             Agilent Technologies Inc. Common Stock   $146.83   \n",
       "1        AA                    Alcoa Corporation Common Stock     $28.21   \n",
       "2      AACG   ATA Creativity Global American Depositary Shares   $1.4703   \n",
       "3      AACI            Armada Acquisition Corp. I Common Stock    $10.98   \n",
       "4     AACIW                 Armada Acquisition Corp. I Warrant    $0.026   \n",
       "...     ...                                                ...       ...   \n",
       "7244   ZVRA               Zevra Therapeutics Inc. Common Stock     $6.33   \n",
       "7245   ZVSA             ZyVersa Therapeutics Inc. Common Stock   $0.7937   \n",
       "7246    ZWS  Zurn Elkay Water Solutions Corporation Common ...    $31.57   \n",
       "7247   ZYME                        Zymeworks Inc. Common Stock    $12.28   \n",
       "7248   ZYXI                            Zynex Inc. Common Stock    $12.96   \n",
       "\n",
       "      Net Change % Change    Market Cap        Country  IPO Year   Volume  \\\n",
       "0         2.4800   1.718%  4.302702e+10  United States    1999.0   837421   \n",
       "1         1.3000   4.831%  5.065359e+09  United States    2016.0  2798270   \n",
       "2         0.0104   0.712%  4.649408e+07          China    2008.0     5781   \n",
       "3         0.0000    0.00%  0.000000e+00  United States    2021.0      500   \n",
       "4        -0.0010  -3.704%  0.000000e+00  United States    2021.0      151   \n",
       "...          ...      ...           ...            ...       ...      ...   \n",
       "7244      0.4200   7.107%  2.292610e+08  United States       NaN   119484   \n",
       "7245     -0.0663  -7.709%  9.868050e+05  United States    2022.0   413504   \n",
       "7246      0.2200   0.702%  5.429918e+09  United States    2012.0   179127   \n",
       "7247      0.3000   2.504%  8.596244e+08  United States       NaN   122113   \n",
       "7248      0.0900   0.699%  4.393930e+08  United States       NaN    47160   \n",
       "\n",
       "           Sector                                           Industry  \n",
       "0     Industrials   Biotechnology: Laboratory Analytical Instruments  \n",
       "1     Industrials                                           Aluminum  \n",
       "2     Real Estate                            Other Consumer Services  \n",
       "3         Finance                                       Blank Checks  \n",
       "4         Finance                                       Blank Checks  \n",
       "...           ...                                                ...  \n",
       "7244  Health Care         Biotechnology: Pharmaceutical Preparations  \n",
       "7245  Health Care         Biotechnology: Pharmaceutical Preparations  \n",
       "7246  Industrials                    Industrial Machinery/Components  \n",
       "7247  Health Care         Biotechnology: Pharmaceutical Preparations  \n",
       "7248  Health Care  Biotechnology: Electromedical & Electrotherape...  \n",
       "\n",
       "[7249 rows x 11 columns]"
      ]
     },
     "execution_count": 131,
     "metadata": {},
     "output_type": "execute_result"
    }
   ],
   "source": [
    "stock_info"
   ]
  },
  {
   "cell_type": "code",
   "execution_count": 139,
   "id": "6395b806-b10a-4587-92ba-2d29706a460f",
   "metadata": {
    "execution": {
     "iopub.execute_input": "2024-03-06T18:19:54.932419Z",
     "iopub.status.busy": "2024-03-06T18:19:54.931419Z",
     "iopub.status.idle": "2024-03-06T18:19:54.937623Z",
     "shell.execute_reply": "2024-03-06T18:19:54.937623Z",
     "shell.execute_reply.started": "2024-03-06T18:19:54.932419Z"
    }
   },
   "outputs": [],
   "source": [
    "stock_info.dropna(inplace=True)"
   ]
  },
  {
   "cell_type": "code",
   "execution_count": 140,
   "id": "be125599-b0e9-464c-9d87-1865eec84b97",
   "metadata": {
    "execution": {
     "iopub.execute_input": "2024-03-06T18:19:55.720138Z",
     "iopub.status.busy": "2024-03-06T18:19:55.720138Z",
     "iopub.status.idle": "2024-03-06T18:19:55.758093Z",
     "shell.execute_reply": "2024-03-06T18:19:55.757417Z",
     "shell.execute_reply.started": "2024-03-06T18:19:55.720138Z"
    }
   },
   "outputs": [],
   "source": [
    "### Removing '^' stocks \n",
    "\n",
    "i=0\n",
    "while i < len(stock_info):\n",
    "    if '^' in stock_info['Symbol'].iloc[i]:\n",
    "        stock_info = stock_info.drop(i, axis=0)\n",
    "        stock_info = stock_info.reset_index(drop=True)\n",
    "    else:\n",
    "        i+=1"
   ]
  },
  {
   "cell_type": "code",
   "execution_count": 141,
   "id": "9ffba09c-ea1c-4f1e-bf34-e4b82c715848",
   "metadata": {
    "execution": {
     "iopub.execute_input": "2024-03-06T18:20:08.713203Z",
     "iopub.status.busy": "2024-03-06T18:20:08.713203Z",
     "iopub.status.idle": "2024-03-06T18:20:08.717133Z",
     "shell.execute_reply": "2024-03-06T18:20:08.717133Z",
     "shell.execute_reply.started": "2024-03-06T18:20:08.713203Z"
    }
   },
   "outputs": [
    {
     "data": {
      "text/plain": [
       "3665"
      ]
     },
     "execution_count": 141,
     "metadata": {},
     "output_type": "execute_result"
    }
   ],
   "source": [
    "len(stock_info)"
   ]
  },
  {
   "cell_type": "code",
   "execution_count": null,
   "id": "9071d83c-7917-4e9d-a26c-766e39c0499a",
   "metadata": {},
   "outputs": [],
   "source": []
  },
  {
   "cell_type": "code",
   "execution_count": 142,
   "id": "2a7639cc-3ce4-44fb-8205-dc39241c3b14",
   "metadata": {
    "execution": {
     "iopub.execute_input": "2024-03-06T18:20:12.954832Z",
     "iopub.status.busy": "2024-03-06T18:20:12.954832Z",
     "iopub.status.idle": "2024-03-06T18:20:12.957610Z",
     "shell.execute_reply": "2024-03-06T18:20:12.957610Z",
     "shell.execute_reply.started": "2024-03-06T18:20:12.954832Z"
    }
   },
   "outputs": [],
   "source": [
    "stock_symbol = stock_info['Symbol'].values\n",
    "stock_name = stock_info['Name'].values"
   ]
  },
  {
   "cell_type": "code",
   "execution_count": 143,
   "id": "4f232f01-7c26-4b6e-b152-4061390c983a",
   "metadata": {
    "execution": {
     "iopub.execute_input": "2024-03-06T18:20:13.588992Z",
     "iopub.status.busy": "2024-03-06T18:20:13.587991Z",
     "iopub.status.idle": "2024-03-06T18:20:13.591389Z",
     "shell.execute_reply": "2024-03-06T18:20:13.591389Z",
     "shell.execute_reply.started": "2024-03-06T18:20:13.588992Z"
    }
   },
   "outputs": [],
   "source": [
    "test = yfi.Ticker('A')"
   ]
  },
  {
   "cell_type": "code",
   "execution_count": 145,
   "id": "62c7d989-a8cb-41c0-a62f-65d56ea8839e",
   "metadata": {
    "execution": {
     "iopub.execute_input": "2024-03-06T18:23:25.876432Z",
     "iopub.status.busy": "2024-03-06T18:23:25.875431Z",
     "iopub.status.idle": "2024-03-06T18:51:44.144188Z",
     "shell.execute_reply": "2024-03-06T18:51:44.143168Z",
     "shell.execute_reply.started": "2024-03-06T18:23:25.876432Z"
    }
   },
   "outputs": [
    {
     "name": "stdout",
     "output_type": "stream",
     "text": [
      "Failed to save ASND-Ascendis Pharma A/S American Depositary Shares\n",
      "Failed to save CODI-D/B/A Compass Diversified Holdings Shares of Beneficial Interest\n",
      "Failed to save CPZ-Calamos Long/Short Equity & Dynamic Income Trust Common Stock\n",
      "Failed to save DAIO-Data I/O Corporation Common Stock\n"
     ]
    },
    {
     "name": "stderr",
     "output_type": "stream",
     "text": [
      "ECC           : No data found, symbol may be delisted\n",
      "ECC           : No data found, symbol may be delisted\n"
     ]
    },
    {
     "name": "stdout",
     "output_type": "stream",
     "text": [
      "Failed to save ELP-Companhia Paranaense de Energia (COPEL) American Depositary Shares (each representing one Unit consisting one Common Share and four non-voting Class B Preferred Shares)\n",
      "Failed to save EVAX-Evaxion Biotech A/S American Depositary Share\n",
      "Failed to save EVG-Eaton Vance Short Diversified Income Fund Eaton Vance Short Duration Diversified Income Fund Common Shares of Beneficial Interest\n",
      "Failed to save FAM-First Trust/abrdn Global Opportunity Income Fund Common Shares of Beneficial Interest\n"
     ]
    },
    {
     "name": "stderr",
     "output_type": "stream",
     "text": [
      "GAMCW: Period '1y' is invalid, must be one of ['1d', '5d']\n"
     ]
    },
    {
     "name": "stdout",
     "output_type": "stream",
     "text": [
      "Failed to save GES-Guess? Inc. Common Stock\n",
      "Failed to save GSMGW-Cheer Holding Inc. Warrant expiring 2/13/2025\n",
      "Failed to save HIE-Miller/Howard High Income Equity Fund Common Shares of Beneficial Interest\n",
      "Failed to save IAE-Voya Asia Pacific High Dividend Equity Income Fund ING Asia Pacific High Dividend Equity Income Fund Common Shares of Beneficial Interest\n",
      "Failed to save KOF-Coca Cola Femsa S.A.B. de C.V.  American Depositary Shares each representing 10 Units (each Unit consists of 3 Series B Shares and 5 Series L Shares)\n",
      "Failed to save LUCYW-Innovative Eyewear Inc. Series A Warrants 8/16/27\n",
      "Failed to save MHO-M/I Homes Inc. Common Stock\n",
      "Failed to save NRUC-National Rural Utilities Cooperative Finance Corporation 5.500% Subordinated Notes due 2064 (Subordinated Deferrable Interest Notes)\n",
      "Failed to save OPP-RiverNorth/DoubleLine Strategic Opportunity Fund Inc. Common Stock\n",
      "Failed to save OXBRW-Oxbridge Re Holdings Limited Warrant expiring 3/26/2024\n",
      "Failed to save PAC-Grupo Aeroportuario Del Pacifico S.A. B. de C.V. Grupo Aeroportuario Del Pacifico S.A. de C.V. (each representing 10 Series B shares)\n",
      "Failed to save PKX-POSCO Holdings Inc. American Depositary Shares (Each representing 1/4th of a share of Common Stock)\n",
      "Failed to save RMAX-RE/MAX Holdings Inc. Class A Common Stock\n",
      "Failed to save TAK-Takeda Pharmaceutical Company Limited American Depositary Shares (each representing 1/2 of a share of Common Stock)\n"
     ]
    },
    {
     "name": "stderr",
     "output_type": "stream",
     "text": [
      "THCPW: Period '1y' is invalid, must be one of ['1d', '5d']\n"
     ]
    },
    {
     "name": "stdout",
     "output_type": "stream",
     "text": [
      "Failed to save THWWW-Target Hospitality Corp. Warrant expiring 3/15/2024\n",
      "Failed to save WTMAR-Welsbach Technology Metals Acquisition Corp. one right to receive 1/10th of a share of common stock\n"
     ]
    }
   ],
   "source": [
    "y5_daily_root = \"C:\\\\Users\\\\lvden\\\\OneDrive - Montana State University\\\\Desktop\\\\time_series_analysis\\\\final_project\\\\nasdaq_stock_price_y5_daily\\\\\"\n",
    "y1_hourly_root = \"C:\\\\Users\\\\lvden\\\\OneDrive - Montana State University\\\\Desktop\\\\time_series_analysis\\\\final_project\\\\nasdaq_stock_price_y1_hourly\\\\\"\n",
    "\n",
    "i=0\n",
    "while i < len(stock_symbol):\n",
    "    symbol = stock_symbol[i]\n",
    "    name = stock_name[i]\n",
    "    symbol_name = symbol + '-' + name\n",
    "\n",
    "    tick = yfi.Ticker(symbol)\n",
    "    y5_daily = tick.history(period='5y', interval='1d')\n",
    "    y1_hourly = tick.history(period='1y', interval='1h')\n",
    "\n",
    "    try:\n",
    "        y5_daily.to_csv(y5_daily_root + symbol_name + '.csv')\n",
    "        y1_hourly.to_csv(y1_hourly_root + symbol_name + '.csv')\n",
    "    except:\n",
    "        print('Failed to save ' + symbol_name)\n",
    "\n",
    "    i+=1\n",
    "\n"
   ]
  },
  {
   "cell_type": "code",
   "execution_count": null,
   "id": "b3a56d52-483f-4613-8d23-c9564f9fb569",
   "metadata": {},
   "outputs": [],
   "source": []
  },
  {
   "cell_type": "code",
   "execution_count": null,
   "id": "ad2d2235-b061-43cd-99e6-b7c5850aec8e",
   "metadata": {},
   "outputs": [],
   "source": []
  },
  {
   "cell_type": "code",
   "execution_count": null,
   "id": "90350fd6-9ca1-408a-ad20-f4dfff81f66c",
   "metadata": {},
   "outputs": [],
   "source": []
  },
  {
   "cell_type": "code",
   "execution_count": null,
   "id": "3b75f76f-8a17-4bca-9525-bb9b3a1ddb95",
   "metadata": {},
   "outputs": [],
   "source": []
  },
  {
   "cell_type": "code",
   "execution_count": null,
   "id": "10bb8d8c-c12d-4b85-a8e0-10f66192b444",
   "metadata": {},
   "outputs": [],
   "source": []
  },
  {
   "cell_type": "code",
   "execution_count": null,
   "id": "9c88955b-3851-4dbf-9239-4edbe2f45997",
   "metadata": {},
   "outputs": [],
   "source": []
  },
  {
   "cell_type": "code",
   "execution_count": null,
   "id": "3d933311-bb2f-4b17-adc8-ea5ec37bc81d",
   "metadata": {},
   "outputs": [],
   "source": []
  },
  {
   "cell_type": "code",
   "execution_count": null,
   "id": "99589be9-b19d-46f9-8be5-4824e89df881",
   "metadata": {},
   "outputs": [],
   "source": []
  }
 ],
 "metadata": {
  "kernelspec": {
   "display_name": "Python 3 (ipykernel)",
   "language": "python",
   "name": "python3"
  },
  "language_info": {
   "codemirror_mode": {
    "name": "ipython",
    "version": 3
   },
   "file_extension": ".py",
   "mimetype": "text/x-python",
   "name": "python",
   "nbconvert_exporter": "python",
   "pygments_lexer": "ipython3",
   "version": "3.11.5"
  }
 },
 "nbformat": 4,
 "nbformat_minor": 5
}
